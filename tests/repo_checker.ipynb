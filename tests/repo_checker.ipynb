{
 "cells": [
  {
   "cell_type": "code",
   "execution_count": 3,
   "metadata": {},
   "outputs": [
    {
     "name": "stdout",
     "output_type": "stream",
     "text": [
      "Your browser has been opened to visit:\n",
      "\n",
      "    https://accounts.google.com/o/oauth2/auth?client_id=866222568272-sskl2pdnfp0aj694b1f3v9o370ogu9nt.apps.googleusercontent.com&redirect_uri=http%3A%2F%2Flocalhost%3A8080%2F&scope=https%3A%2F%2Fwww.googleapis.com%2Fauth%2Fdrive&access_type=online&response_type=code\n",
      "\n"
     ]
    },
    {
     "name": "stderr",
     "output_type": "stream",
     "text": [
      "/usr/bin/xdg-open: 882: x-www-browser: not found\n",
      "/usr/bin/xdg-open: 882: firefox: not found\n",
      "/usr/bin/xdg-open: 882: iceweasel: not found\n",
      "/usr/bin/xdg-open: 882: seamonkey: not found\n",
      "/usr/bin/xdg-open: 882: mozilla: not found\n",
      "/usr/bin/xdg-open: 882: epiphany: not found\n",
      "/usr/bin/xdg-open: 882: konqueror: not found\n",
      "/usr/bin/xdg-open: 882: chromium: not found\n",
      "/usr/bin/xdg-open: 882: chromium-browser: not found\n",
      "/usr/bin/xdg-open: 882: google-chrome: not found\n",
      "/usr/bin/xdg-open: 882: www-browser: not found\n",
      "/usr/bin/xdg-open: 882: links2: not found\n",
      "/usr/bin/xdg-open: 882: elinks: not found\n",
      "/usr/bin/xdg-open: 882: links: not found\n",
      "/usr/bin/xdg-open: 882: lynx: not found\n",
      "/usr/bin/xdg-open: 882: w3m: not found\n",
      "xdg-open: no method available for opening 'https://accounts.google.com/o/oauth2/auth?client_id=866222568272-sskl2pdnfp0aj694b1f3v9o370ogu9nt.apps.googleusercontent.com&redirect_uri=http%3A%2F%2Flocalhost%3A8080%2F&scope=https%3A%2F%2Fwww.googleapis.com%2Fauth%2Fdrive&access_type=online&response_type=code'\n"
     ]
    },
    {
     "name": "stdout",
     "output_type": "stream",
     "text": [
      "Authentication successful.\n"
     ]
    }
   ],
   "source": [
    "from pydrive2.auth import GoogleAuth\n",
    "\n",
    "gauth = GoogleAuth()\n",
    "gauth.LocalWebserverAuth()"
   ]
  },
  {
   "cell_type": "code",
   "execution_count": 6,
   "metadata": {},
   "outputs": [],
   "source": [
    "from pydrive2.drive import GoogleDrive\n",
    "drive = GoogleDrive(gauth)"
   ]
  },
  {
   "cell_type": "code",
   "execution_count": 13,
   "metadata": {},
   "outputs": [
    {
     "name": "stdout",
     "output_type": "stream",
     "text": [
      "title: Manual evaluation - arXiv (cs.lg & stat.ml), id: 12FpKYUWtM8zLREZkdZGYR0eRWxcsbJhHwMbS_yuE46s\n"
     ]
    },
    {
     "ename": "ApiRequestError",
     "evalue": "<HttpError 400 when requesting https://www.googleapis.com/drive/v2/files/12FpKYUWtM8zLREZkdZGYR0eRWxcsbJhHwMbS_yuE46s/export?mimeType=text%2Fplain&alt=media returned \"The requested conversion is not supported.\". Details: \"[{'domain': 'global', 'reason': 'badRequest', 'message': 'The requested conversion is not supported.', 'locationType': 'parameter', 'location': 'convertTo'}]\">",
     "output_type": "error",
     "traceback": [
      "\u001b[0;31m---------------------------------------------------------------------------\u001b[0m",
      "\u001b[0;31mHttpError\u001b[0m                                 Traceback (most recent call last)",
      "File \u001b[0;32m~/.pyenv/versions/3.9.13/envs/repro-screener/lib/python3.9/site-packages/pydrive2/files.py:338\u001b[0m, in \u001b[0;36mGoogleDriveFile.GetContentFile\u001b[0;34m(self, filename, mimetype, remove_bom, callback, chunksize, acknowledge_abuse)\u001b[0m\n\u001b[1;32m    337\u001b[0m \u001b[39mtry\u001b[39;00m:\n\u001b[0;32m--> 338\u001b[0m     download(\n\u001b[1;32m    339\u001b[0m         fd,\n\u001b[1;32m    340\u001b[0m         files\u001b[39m.\u001b[39;49mget_media(\n\u001b[1;32m    341\u001b[0m             fileId\u001b[39m=\u001b[39;49mfile_id, acknowledgeAbuse\u001b[39m=\u001b[39;49macknowledge_abuse\n\u001b[1;32m    342\u001b[0m         ),\n\u001b[1;32m    343\u001b[0m     )\n\u001b[1;32m    344\u001b[0m \u001b[39mexcept\u001b[39;00m errors\u001b[39m.\u001b[39mHttpError \u001b[39mas\u001b[39;00m error:\n",
      "File \u001b[0;32m~/.pyenv/versions/3.9.13/envs/repro-screener/lib/python3.9/site-packages/pydrive2/files.py:328\u001b[0m, in \u001b[0;36mGoogleDriveFile.GetContentFile.<locals>.download\u001b[0;34m(fd, request)\u001b[0m\n\u001b[1;32m    327\u001b[0m \u001b[39mwhile\u001b[39;00m done \u001b[39mis\u001b[39;00m \u001b[39mFalse\u001b[39;00m:\n\u001b[0;32m--> 328\u001b[0m     status, done \u001b[39m=\u001b[39m downloader\u001b[39m.\u001b[39;49mnext_chunk()\n\u001b[1;32m    329\u001b[0m     \u001b[39mif\u001b[39;00m callback:\n",
      "File \u001b[0;32m~/.pyenv/versions/3.9.13/envs/repro-screener/lib/python3.9/site-packages/googleapiclient/_helpers.py:130\u001b[0m, in \u001b[0;36mpositional.<locals>.positional_decorator.<locals>.positional_wrapper\u001b[0;34m(*args, **kwargs)\u001b[0m\n\u001b[1;32m    129\u001b[0m         logger\u001b[39m.\u001b[39mwarning(message)\n\u001b[0;32m--> 130\u001b[0m \u001b[39mreturn\u001b[39;00m wrapped(\u001b[39m*\u001b[39;49margs, \u001b[39m*\u001b[39;49m\u001b[39m*\u001b[39;49mkwargs)\n",
      "File \u001b[0;32m~/.pyenv/versions/3.9.13/envs/repro-screener/lib/python3.9/site-packages/googleapiclient/http.py:780\u001b[0m, in \u001b[0;36mMediaIoBaseDownload.next_chunk\u001b[0;34m(self, num_retries)\u001b[0m\n\u001b[1;32m    776\u001b[0m         \u001b[39mreturn\u001b[39;00m (\n\u001b[1;32m    777\u001b[0m             MediaDownloadProgress(\u001b[39mself\u001b[39m\u001b[39m.\u001b[39m_progress, \u001b[39mself\u001b[39m\u001b[39m.\u001b[39m_total_size),\n\u001b[1;32m    778\u001b[0m             \u001b[39mself\u001b[39m\u001b[39m.\u001b[39m_done,\n\u001b[1;32m    779\u001b[0m         )\n\u001b[0;32m--> 780\u001b[0m \u001b[39mraise\u001b[39;00m HttpError(resp, content, uri\u001b[39m=\u001b[39m\u001b[39mself\u001b[39m\u001b[39m.\u001b[39m_uri)\n",
      "\u001b[0;31mHttpError\u001b[0m: <HttpError 403 when requesting https://www.googleapis.com/drive/v2/files/12FpKYUWtM8zLREZkdZGYR0eRWxcsbJhHwMbS_yuE46s?acknowledgeAbuse=false&alt=media returned \"Only files with binary content can be downloaded. Use Export with Docs Editors files.\". Details: \"[{'message': 'Only files with binary content can be downloaded. Use Export with Docs Editors files.', 'domain': 'global', 'reason': 'fileNotDownloadable', 'location': 'alt', 'locationType': 'parameter'}]\">",
      "\nDuring handling of the above exception, another exception occurred:\n",
      "\u001b[0;31mHttpError\u001b[0m                                 Traceback (most recent call last)",
      "File \u001b[0;32m~/.pyenv/versions/3.9.13/envs/repro-screener/lib/python3.9/site-packages/pydrive2/files.py:354\u001b[0m, in \u001b[0;36mGoogleDriveFile.GetContentFile\u001b[0;34m(self, filename, mimetype, remove_bom, callback, chunksize, acknowledge_abuse)\u001b[0m\n\u001b[1;32m    353\u001b[0m \u001b[39mtry\u001b[39;00m:\n\u001b[0;32m--> 354\u001b[0m     download(\n\u001b[1;32m    355\u001b[0m         fd,\n\u001b[1;32m    356\u001b[0m         files\u001b[39m.\u001b[39;49mexport_media(fileId\u001b[39m=\u001b[39;49mfile_id, mimeType\u001b[39m=\u001b[39;49mmimetype),\n\u001b[1;32m    357\u001b[0m     )\n\u001b[1;32m    358\u001b[0m \u001b[39mexcept\u001b[39;00m errors\u001b[39m.\u001b[39mHttpError \u001b[39mas\u001b[39;00m error:\n",
      "File \u001b[0;32m~/.pyenv/versions/3.9.13/envs/repro-screener/lib/python3.9/site-packages/pydrive2/files.py:328\u001b[0m, in \u001b[0;36mGoogleDriveFile.GetContentFile.<locals>.download\u001b[0;34m(fd, request)\u001b[0m\n\u001b[1;32m    327\u001b[0m \u001b[39mwhile\u001b[39;00m done \u001b[39mis\u001b[39;00m \u001b[39mFalse\u001b[39;00m:\n\u001b[0;32m--> 328\u001b[0m     status, done \u001b[39m=\u001b[39m downloader\u001b[39m.\u001b[39;49mnext_chunk()\n\u001b[1;32m    329\u001b[0m     \u001b[39mif\u001b[39;00m callback:\n",
      "File \u001b[0;32m~/.pyenv/versions/3.9.13/envs/repro-screener/lib/python3.9/site-packages/googleapiclient/_helpers.py:130\u001b[0m, in \u001b[0;36mpositional.<locals>.positional_decorator.<locals>.positional_wrapper\u001b[0;34m(*args, **kwargs)\u001b[0m\n\u001b[1;32m    129\u001b[0m         logger\u001b[39m.\u001b[39mwarning(message)\n\u001b[0;32m--> 130\u001b[0m \u001b[39mreturn\u001b[39;00m wrapped(\u001b[39m*\u001b[39;49margs, \u001b[39m*\u001b[39;49m\u001b[39m*\u001b[39;49mkwargs)\n",
      "File \u001b[0;32m~/.pyenv/versions/3.9.13/envs/repro-screener/lib/python3.9/site-packages/googleapiclient/http.py:780\u001b[0m, in \u001b[0;36mMediaIoBaseDownload.next_chunk\u001b[0;34m(self, num_retries)\u001b[0m\n\u001b[1;32m    776\u001b[0m         \u001b[39mreturn\u001b[39;00m (\n\u001b[1;32m    777\u001b[0m             MediaDownloadProgress(\u001b[39mself\u001b[39m\u001b[39m.\u001b[39m_progress, \u001b[39mself\u001b[39m\u001b[39m.\u001b[39m_total_size),\n\u001b[1;32m    778\u001b[0m             \u001b[39mself\u001b[39m\u001b[39m.\u001b[39m_done,\n\u001b[1;32m    779\u001b[0m         )\n\u001b[0;32m--> 780\u001b[0m \u001b[39mraise\u001b[39;00m HttpError(resp, content, uri\u001b[39m=\u001b[39m\u001b[39mself\u001b[39m\u001b[39m.\u001b[39m_uri)\n",
      "\u001b[0;31mHttpError\u001b[0m: <HttpError 400 when requesting https://www.googleapis.com/drive/v2/files/12FpKYUWtM8zLREZkdZGYR0eRWxcsbJhHwMbS_yuE46s/export?mimeType=text%2Fplain&alt=media returned \"The requested conversion is not supported.\". Details: \"[{'domain': 'global', 'reason': 'badRequest', 'message': 'The requested conversion is not supported.', 'locationType': 'parameter', 'location': 'convertTo'}]\">",
      "\nDuring handling of the above exception, another exception occurred:\n",
      "\u001b[0;31mApiRequestError\u001b[0m                           Traceback (most recent call last)",
      "Cell \u001b[0;32mIn[13], line 10\u001b[0m\n\u001b[1;32m      8\u001b[0m \u001b[39mif\u001b[39;00m file2[\u001b[39m'\u001b[39m\u001b[39mid\u001b[39m\u001b[39m'\u001b[39m] \u001b[39m==\u001b[39m \u001b[39m'\u001b[39m\u001b[39m12FpKYUWtM8zLREZkdZGYR0eRWxcsbJhHwMbS_yuE46s\u001b[39m\u001b[39m'\u001b[39m:\n\u001b[1;32m      9\u001b[0m   file3 \u001b[39m=\u001b[39m drive\u001b[39m.\u001b[39mCreateFile({\u001b[39m'\u001b[39m\u001b[39mid\u001b[39m\u001b[39m'\u001b[39m: file2[\u001b[39m'\u001b[39m\u001b[39mid\u001b[39m\u001b[39m'\u001b[39m]})\n\u001b[0;32m---> 10\u001b[0m   file3\u001b[39m.\u001b[39;49mGetContentFile(filename\u001b[39m=\u001b[39;49m\u001b[39m'\u001b[39;49m\u001b[39mmanual_eval.csv\u001b[39;49m\u001b[39m'\u001b[39;49m)\n\u001b[1;32m     11\u001b[0m   \u001b[39mprint\u001b[39m(\u001b[39m'\u001b[39m\u001b[39mDownloaded file: \u001b[39m\u001b[39m%s\u001b[39;00m\u001b[39m'\u001b[39m \u001b[39m%\u001b[39m file2[\u001b[39m'\u001b[39m\u001b[39mtitle\u001b[39m\u001b[39m'\u001b[39m])\n",
      "File \u001b[0;32m~/.pyenv/versions/3.9.13/envs/repro-screener/lib/python3.9/site-packages/pydrive2/auth.py:84\u001b[0m, in \u001b[0;36mLoadAuth.<locals>._decorated\u001b[0;34m(self, *args, **kwargs)\u001b[0m\n\u001b[1;32m     81\u001b[0m         \u001b[39mself\u001b[39m\u001b[39m.\u001b[39mauth\u001b[39m.\u001b[39mthread_local\u001b[39m.\u001b[39mhttp \u001b[39m=\u001b[39m \u001b[39mself\u001b[39m\u001b[39m.\u001b[39mauth\u001b[39m.\u001b[39mGet_Http_Object()\n\u001b[1;32m     82\u001b[0m     \u001b[39mself\u001b[39m\u001b[39m.\u001b[39mhttp \u001b[39m=\u001b[39m \u001b[39mself\u001b[39m\u001b[39m.\u001b[39mauth\u001b[39m.\u001b[39mthread_local\u001b[39m.\u001b[39mhttp\n\u001b[0;32m---> 84\u001b[0m \u001b[39mreturn\u001b[39;00m decoratee(\u001b[39mself\u001b[39;49m, \u001b[39m*\u001b[39;49margs, \u001b[39m*\u001b[39;49m\u001b[39m*\u001b[39;49mkwargs)\n",
      "File \u001b[0;32m~/.pyenv/versions/3.9.13/envs/repro-screener/lib/python3.9/site-packages/pydrive2/files.py:359\u001b[0m, in \u001b[0;36mGoogleDriveFile.GetContentFile\u001b[0;34m(self, filename, mimetype, remove_bom, callback, chunksize, acknowledge_abuse)\u001b[0m\n\u001b[1;32m    354\u001b[0m         download(\n\u001b[1;32m    355\u001b[0m             fd,\n\u001b[1;32m    356\u001b[0m             files\u001b[39m.\u001b[39mexport_media(fileId\u001b[39m=\u001b[39mfile_id, mimeType\u001b[39m=\u001b[39mmimetype),\n\u001b[1;32m    357\u001b[0m         )\n\u001b[1;32m    358\u001b[0m     \u001b[39mexcept\u001b[39;00m errors\u001b[39m.\u001b[39mHttpError \u001b[39mas\u001b[39;00m error:\n\u001b[0;32m--> 359\u001b[0m         \u001b[39mraise\u001b[39;00m ApiRequestError(error)\n\u001b[1;32m    361\u001b[0m \u001b[39mif\u001b[39;00m mimetype \u001b[39m==\u001b[39m \u001b[39m\"\u001b[39m\u001b[39mtext/plain\u001b[39m\u001b[39m\"\u001b[39m \u001b[39mand\u001b[39;00m remove_bom:\n\u001b[1;32m    362\u001b[0m     fd\u001b[39m.\u001b[39mseek(\u001b[39m0\u001b[39m)\n",
      "\u001b[0;31mApiRequestError\u001b[0m: <HttpError 400 when requesting https://www.googleapis.com/drive/v2/files/12FpKYUWtM8zLREZkdZGYR0eRWxcsbJhHwMbS_yuE46s/export?mimeType=text%2Fplain&alt=media returned \"The requested conversion is not supported.\". Details: \"[{'domain': 'global', 'reason': 'badRequest', 'message': 'The requested conversion is not supported.', 'locationType': 'parameter', 'location': 'convertTo'}]\">"
     ]
    }
   ],
   "source": [
    "file_list = drive.ListFile({'q': \"'root' in parents and trashed=false\"}).GetList()\n",
    "for file1 in file_list:\n",
    "#   print('title: %s, id: %s' % (file1['title'], file1['id']))\n",
    "  if file1['title'] == 'repro-screener':\n",
    "    file_list2 = drive.ListFile({'q': \"'%s' in parents and trashed=false\" % file1['id']}).GetList()\n",
    "    for file2 in file_list2:\n",
    "      print('title: %s, id: %s' % (file2['title'], file2['id']))\n",
    "      if file2['id'] == '12FpKYUWtM8zLREZkdZGYR0eRWxcsbJhHwMbS_yuE46s':\n",
    "        file3 = drive.CreateFile({'id': file2['id']})\n",
    "        file3.GetContentFile(filename='manual_eval.csv', mimetype='text/csv')\n",
    "        print('Downloaded file: %s' % file2['title'])"
   ]
  },
  {
   "cell_type": "code",
   "execution_count": 8,
   "metadata": {},
   "outputs": [
    {
     "ename": "ApiRequestError",
     "evalue": "<HttpError 400 when requesting https://www.googleapis.com/drive/v2/files/12FpKYUWtM8zLREZkdZGYR0eRWxcsbJhHwMbS_yuE46s/export?mimeType=text%2Fplain&alt=media returned \"The requested conversion is not supported.\". Details: \"[{'domain': 'global', 'reason': 'badRequest', 'message': 'The requested conversion is not supported.', 'locationType': 'parameter', 'location': 'convertTo'}]\">",
     "output_type": "error",
     "traceback": [
      "\u001b[0;31m---------------------------------------------------------------------------\u001b[0m",
      "\u001b[0;31mHttpError\u001b[0m                                 Traceback (most recent call last)",
      "File \u001b[0;32m~/.pyenv/versions/3.9.13/envs/repro-screener/lib/python3.9/site-packages/pydrive2/files.py:338\u001b[0m, in \u001b[0;36mGoogleDriveFile.GetContentFile\u001b[0;34m(self, filename, mimetype, remove_bom, callback, chunksize, acknowledge_abuse)\u001b[0m\n\u001b[1;32m    337\u001b[0m \u001b[39mtry\u001b[39;00m:\n\u001b[0;32m--> 338\u001b[0m     download(\n\u001b[1;32m    339\u001b[0m         fd,\n\u001b[1;32m    340\u001b[0m         files\u001b[39m.\u001b[39;49mget_media(\n\u001b[1;32m    341\u001b[0m             fileId\u001b[39m=\u001b[39;49mfile_id, acknowledgeAbuse\u001b[39m=\u001b[39;49macknowledge_abuse\n\u001b[1;32m    342\u001b[0m         ),\n\u001b[1;32m    343\u001b[0m     )\n\u001b[1;32m    344\u001b[0m \u001b[39mexcept\u001b[39;00m errors\u001b[39m.\u001b[39mHttpError \u001b[39mas\u001b[39;00m error:\n",
      "File \u001b[0;32m~/.pyenv/versions/3.9.13/envs/repro-screener/lib/python3.9/site-packages/pydrive2/files.py:328\u001b[0m, in \u001b[0;36mGoogleDriveFile.GetContentFile.<locals>.download\u001b[0;34m(fd, request)\u001b[0m\n\u001b[1;32m    327\u001b[0m \u001b[39mwhile\u001b[39;00m done \u001b[39mis\u001b[39;00m \u001b[39mFalse\u001b[39;00m:\n\u001b[0;32m--> 328\u001b[0m     status, done \u001b[39m=\u001b[39m downloader\u001b[39m.\u001b[39;49mnext_chunk()\n\u001b[1;32m    329\u001b[0m     \u001b[39mif\u001b[39;00m callback:\n",
      "File \u001b[0;32m~/.pyenv/versions/3.9.13/envs/repro-screener/lib/python3.9/site-packages/googleapiclient/_helpers.py:130\u001b[0m, in \u001b[0;36mpositional.<locals>.positional_decorator.<locals>.positional_wrapper\u001b[0;34m(*args, **kwargs)\u001b[0m\n\u001b[1;32m    129\u001b[0m         logger\u001b[39m.\u001b[39mwarning(message)\n\u001b[0;32m--> 130\u001b[0m \u001b[39mreturn\u001b[39;00m wrapped(\u001b[39m*\u001b[39;49margs, \u001b[39m*\u001b[39;49m\u001b[39m*\u001b[39;49mkwargs)\n",
      "File \u001b[0;32m~/.pyenv/versions/3.9.13/envs/repro-screener/lib/python3.9/site-packages/googleapiclient/http.py:780\u001b[0m, in \u001b[0;36mMediaIoBaseDownload.next_chunk\u001b[0;34m(self, num_retries)\u001b[0m\n\u001b[1;32m    776\u001b[0m         \u001b[39mreturn\u001b[39;00m (\n\u001b[1;32m    777\u001b[0m             MediaDownloadProgress(\u001b[39mself\u001b[39m\u001b[39m.\u001b[39m_progress, \u001b[39mself\u001b[39m\u001b[39m.\u001b[39m_total_size),\n\u001b[1;32m    778\u001b[0m             \u001b[39mself\u001b[39m\u001b[39m.\u001b[39m_done,\n\u001b[1;32m    779\u001b[0m         )\n\u001b[0;32m--> 780\u001b[0m \u001b[39mraise\u001b[39;00m HttpError(resp, content, uri\u001b[39m=\u001b[39m\u001b[39mself\u001b[39m\u001b[39m.\u001b[39m_uri)\n",
      "\u001b[0;31mHttpError\u001b[0m: <HttpError 403 when requesting https://www.googleapis.com/drive/v2/files/12FpKYUWtM8zLREZkdZGYR0eRWxcsbJhHwMbS_yuE46s?acknowledgeAbuse=false&alt=media returned \"Only files with binary content can be downloaded. Use Export with Docs Editors files.\". Details: \"[{'message': 'Only files with binary content can be downloaded. Use Export with Docs Editors files.', 'domain': 'global', 'reason': 'fileNotDownloadable', 'location': 'alt', 'locationType': 'parameter'}]\">",
      "\nDuring handling of the above exception, another exception occurred:\n",
      "\u001b[0;31mHttpError\u001b[0m                                 Traceback (most recent call last)",
      "File \u001b[0;32m~/.pyenv/versions/3.9.13/envs/repro-screener/lib/python3.9/site-packages/pydrive2/files.py:354\u001b[0m, in \u001b[0;36mGoogleDriveFile.GetContentFile\u001b[0;34m(self, filename, mimetype, remove_bom, callback, chunksize, acknowledge_abuse)\u001b[0m\n\u001b[1;32m    353\u001b[0m \u001b[39mtry\u001b[39;00m:\n\u001b[0;32m--> 354\u001b[0m     download(\n\u001b[1;32m    355\u001b[0m         fd,\n\u001b[1;32m    356\u001b[0m         files\u001b[39m.\u001b[39;49mexport_media(fileId\u001b[39m=\u001b[39;49mfile_id, mimeType\u001b[39m=\u001b[39;49mmimetype),\n\u001b[1;32m    357\u001b[0m     )\n\u001b[1;32m    358\u001b[0m \u001b[39mexcept\u001b[39;00m errors\u001b[39m.\u001b[39mHttpError \u001b[39mas\u001b[39;00m error:\n",
      "File \u001b[0;32m~/.pyenv/versions/3.9.13/envs/repro-screener/lib/python3.9/site-packages/pydrive2/files.py:328\u001b[0m, in \u001b[0;36mGoogleDriveFile.GetContentFile.<locals>.download\u001b[0;34m(fd, request)\u001b[0m\n\u001b[1;32m    327\u001b[0m \u001b[39mwhile\u001b[39;00m done \u001b[39mis\u001b[39;00m \u001b[39mFalse\u001b[39;00m:\n\u001b[0;32m--> 328\u001b[0m     status, done \u001b[39m=\u001b[39m downloader\u001b[39m.\u001b[39;49mnext_chunk()\n\u001b[1;32m    329\u001b[0m     \u001b[39mif\u001b[39;00m callback:\n",
      "File \u001b[0;32m~/.pyenv/versions/3.9.13/envs/repro-screener/lib/python3.9/site-packages/googleapiclient/_helpers.py:130\u001b[0m, in \u001b[0;36mpositional.<locals>.positional_decorator.<locals>.positional_wrapper\u001b[0;34m(*args, **kwargs)\u001b[0m\n\u001b[1;32m    129\u001b[0m         logger\u001b[39m.\u001b[39mwarning(message)\n\u001b[0;32m--> 130\u001b[0m \u001b[39mreturn\u001b[39;00m wrapped(\u001b[39m*\u001b[39;49margs, \u001b[39m*\u001b[39;49m\u001b[39m*\u001b[39;49mkwargs)\n",
      "File \u001b[0;32m~/.pyenv/versions/3.9.13/envs/repro-screener/lib/python3.9/site-packages/googleapiclient/http.py:780\u001b[0m, in \u001b[0;36mMediaIoBaseDownload.next_chunk\u001b[0;34m(self, num_retries)\u001b[0m\n\u001b[1;32m    776\u001b[0m         \u001b[39mreturn\u001b[39;00m (\n\u001b[1;32m    777\u001b[0m             MediaDownloadProgress(\u001b[39mself\u001b[39m\u001b[39m.\u001b[39m_progress, \u001b[39mself\u001b[39m\u001b[39m.\u001b[39m_total_size),\n\u001b[1;32m    778\u001b[0m             \u001b[39mself\u001b[39m\u001b[39m.\u001b[39m_done,\n\u001b[1;32m    779\u001b[0m         )\n\u001b[0;32m--> 780\u001b[0m \u001b[39mraise\u001b[39;00m HttpError(resp, content, uri\u001b[39m=\u001b[39m\u001b[39mself\u001b[39m\u001b[39m.\u001b[39m_uri)\n",
      "\u001b[0;31mHttpError\u001b[0m: <HttpError 400 when requesting https://www.googleapis.com/drive/v2/files/12FpKYUWtM8zLREZkdZGYR0eRWxcsbJhHwMbS_yuE46s/export?mimeType=text%2Fplain&alt=media returned \"The requested conversion is not supported.\". Details: \"[{'domain': 'global', 'reason': 'badRequest', 'message': 'The requested conversion is not supported.', 'locationType': 'parameter', 'location': 'convertTo'}]\">",
      "\nDuring handling of the above exception, another exception occurred:\n",
      "\u001b[0;31mApiRequestError\u001b[0m                           Traceback (most recent call last)",
      "Cell \u001b[0;32mIn[8], line 2\u001b[0m\n\u001b[1;32m      1\u001b[0m file6 \u001b[39m=\u001b[39m drive\u001b[39m.\u001b[39mCreateFile({\u001b[39m'\u001b[39m\u001b[39mid\u001b[39m\u001b[39m'\u001b[39m: \u001b[39m'\u001b[39m\u001b[39m12FpKYUWtM8zLREZkdZGYR0eRWxcsbJhHwMbS_yuE46s\u001b[39m\u001b[39m'\u001b[39m})\n\u001b[0;32m----> 2\u001b[0m file6\u001b[39m.\u001b[39;49mGetContentFile(\u001b[39m'\u001b[39;49m\u001b[39mManual evaluation - arXiv (cs.lg & stat.ml)\u001b[39;49m\u001b[39m'\u001b[39;49m)\n",
      "File \u001b[0;32m~/.pyenv/versions/3.9.13/envs/repro-screener/lib/python3.9/site-packages/pydrive2/auth.py:84\u001b[0m, in \u001b[0;36mLoadAuth.<locals>._decorated\u001b[0;34m(self, *args, **kwargs)\u001b[0m\n\u001b[1;32m     81\u001b[0m         \u001b[39mself\u001b[39m\u001b[39m.\u001b[39mauth\u001b[39m.\u001b[39mthread_local\u001b[39m.\u001b[39mhttp \u001b[39m=\u001b[39m \u001b[39mself\u001b[39m\u001b[39m.\u001b[39mauth\u001b[39m.\u001b[39mGet_Http_Object()\n\u001b[1;32m     82\u001b[0m     \u001b[39mself\u001b[39m\u001b[39m.\u001b[39mhttp \u001b[39m=\u001b[39m \u001b[39mself\u001b[39m\u001b[39m.\u001b[39mauth\u001b[39m.\u001b[39mthread_local\u001b[39m.\u001b[39mhttp\n\u001b[0;32m---> 84\u001b[0m \u001b[39mreturn\u001b[39;00m decoratee(\u001b[39mself\u001b[39;49m, \u001b[39m*\u001b[39;49margs, \u001b[39m*\u001b[39;49m\u001b[39m*\u001b[39;49mkwargs)\n",
      "File \u001b[0;32m~/.pyenv/versions/3.9.13/envs/repro-screener/lib/python3.9/site-packages/pydrive2/files.py:359\u001b[0m, in \u001b[0;36mGoogleDriveFile.GetContentFile\u001b[0;34m(self, filename, mimetype, remove_bom, callback, chunksize, acknowledge_abuse)\u001b[0m\n\u001b[1;32m    354\u001b[0m         download(\n\u001b[1;32m    355\u001b[0m             fd,\n\u001b[1;32m    356\u001b[0m             files\u001b[39m.\u001b[39mexport_media(fileId\u001b[39m=\u001b[39mfile_id, mimeType\u001b[39m=\u001b[39mmimetype),\n\u001b[1;32m    357\u001b[0m         )\n\u001b[1;32m    358\u001b[0m     \u001b[39mexcept\u001b[39;00m errors\u001b[39m.\u001b[39mHttpError \u001b[39mas\u001b[39;00m error:\n\u001b[0;32m--> 359\u001b[0m         \u001b[39mraise\u001b[39;00m ApiRequestError(error)\n\u001b[1;32m    361\u001b[0m \u001b[39mif\u001b[39;00m mimetype \u001b[39m==\u001b[39m \u001b[39m\"\u001b[39m\u001b[39mtext/plain\u001b[39m\u001b[39m\"\u001b[39m \u001b[39mand\u001b[39;00m remove_bom:\n\u001b[1;32m    362\u001b[0m     fd\u001b[39m.\u001b[39mseek(\u001b[39m0\u001b[39m)\n",
      "\u001b[0;31mApiRequestError\u001b[0m: <HttpError 400 when requesting https://www.googleapis.com/drive/v2/files/12FpKYUWtM8zLREZkdZGYR0eRWxcsbJhHwMbS_yuE46s/export?mimeType=text%2Fplain&alt=media returned \"The requested conversion is not supported.\". Details: \"[{'domain': 'global', 'reason': 'badRequest', 'message': 'The requested conversion is not supported.', 'locationType': 'parameter', 'location': 'convertTo'}]\">"
     ]
    }
   ],
   "source": [
    "file6 = drive.CreateFile({'id': '12FpKYUWtM8zLREZkdZGYR0eRWxcsbJhHwMbS_yuE46s'})\n",
    "file6.GetContentFile('Manual evaluation - arXiv (cs.lg & stat.ml)')"
   ]
  },
  {
   "cell_type": "code",
   "execution_count": null,
   "metadata": {},
   "outputs": [],
   "source": []
  }
 ],
 "metadata": {
  "kernelspec": {
   "display_name": "repro-screener",
   "language": "python",
   "name": "python3"
  },
  "language_info": {
   "codemirror_mode": {
    "name": "ipython",
    "version": 3
   },
   "file_extension": ".py",
   "mimetype": "text/x-python",
   "name": "python",
   "nbconvert_exporter": "python",
   "pygments_lexer": "ipython3",
   "version": "3.9.13"
  },
  "orig_nbformat": 4,
  "vscode": {
   "interpreter": {
    "hash": "20a99d91287664821558953b6dd64860c99c1cbc0b07e06fad4c963774f71786"
   }
  }
 },
 "nbformat": 4,
 "nbformat_minor": 2
}
