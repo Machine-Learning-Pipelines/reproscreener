{
 "cells": [
  {
   "cell_type": "code",
   "execution_count": 2,
   "metadata": {},
   "outputs": [
    {
     "ename": "EOFError",
     "evalue": "[Line: 0, Offset: 6761] \"equation\" env expecting \\end{equation}. Instead got \\end{array}\\",
     "output_type": "error",
     "traceback": [
      "\u001b[0;31m---------------------------------------------------------------------------\u001b[0m",
      "\u001b[0;31mEOFError\u001b[0m                                  Traceback (most recent call last)",
      "Cell \u001b[0;32mIn [2], line 6\u001b[0m\n\u001b[1;32m      4\u001b[0m \u001b[39mwith\u001b[39;00m \u001b[39mopen\u001b[39m(\u001b[39m'\u001b[39m\u001b[39m../case-studies/arxiv-corpus/mine50/source/1903.09668/final.tex\u001b[39m\u001b[39m'\u001b[39m) \u001b[39mas\u001b[39;00m f: \n\u001b[1;32m      5\u001b[0m     data \u001b[39m=\u001b[39m f\u001b[39m.\u001b[39mread()\n\u001b[0;32m----> 6\u001b[0m     soup \u001b[39m=\u001b[39m TexSoup(data)\n",
      "File \u001b[0;32m~/.pyenv/versions/3.9.13/envs/repro-poetry/lib/python3.9/site-packages/TexSoup/__init__.py:87\u001b[0m, in \u001b[0;36mTexSoup\u001b[0;34m(tex_code, skip_envs, tolerance)\u001b[0m\n\u001b[1;32m     14\u001b[0m \u001b[39mdef\u001b[39;00m \u001b[39mTexSoup\u001b[39m(tex_code, skip_envs\u001b[39m=\u001b[39m(), tolerance\u001b[39m=\u001b[39m\u001b[39m0\u001b[39m):\n\u001b[1;32m     15\u001b[0m     \u001b[39mr\u001b[39m\u001b[39m\"\"\"\u001b[39;00m\n\u001b[1;32m     16\u001b[0m \u001b[39m    At a high-level, parses provided Tex into a navigable, searchable\u001b[39;00m\n\u001b[1;32m     17\u001b[0m \u001b[39m    structure. This is accomplished in two steps:\u001b[39;00m\n\u001b[0;32m   (...)\u001b[0m\n\u001b[1;32m     85\u001b[0m \u001b[39m    SOUP\u001b[39;00m\n\u001b[1;32m     86\u001b[0m \u001b[39m    \"\"\"\u001b[39;00m\n\u001b[0;32m---> 87\u001b[0m     parsed, src \u001b[39m=\u001b[39m read(tex_code, skip_envs\u001b[39m=\u001b[39;49mskip_envs, tolerance\u001b[39m=\u001b[39;49mtolerance)\n\u001b[1;32m     88\u001b[0m     \u001b[39mreturn\u001b[39;00m TexNode(parsed, src\u001b[39m=\u001b[39msrc)\n",
      "File \u001b[0;32m~/.pyenv/versions/3.9.13/envs/repro-poetry/lib/python3.9/site-packages/TexSoup/tex.py:22\u001b[0m, in \u001b[0;36mread\u001b[0;34m(tex, skip_envs, tolerance)\u001b[0m\n\u001b[1;32m     20\u001b[0m buf \u001b[39m=\u001b[39m tokenize(buf)\n\u001b[1;32m     21\u001b[0m buf \u001b[39m=\u001b[39m read_tex(buf, skip_envs\u001b[39m=\u001b[39mskip_envs, tolerance\u001b[39m=\u001b[39mtolerance)\n\u001b[0;32m---> 22\u001b[0m \u001b[39mreturn\u001b[39;00m TexEnv(\u001b[39m'\u001b[39;49m\u001b[39m[tex]\u001b[39;49m\u001b[39m'\u001b[39;49m, begin\u001b[39m=\u001b[39;49m\u001b[39m'\u001b[39;49m\u001b[39m'\u001b[39;49m, end\u001b[39m=\u001b[39;49m\u001b[39m'\u001b[39;49m\u001b[39m'\u001b[39;49m, contents\u001b[39m=\u001b[39;49mbuf), tex\n",
      "File \u001b[0;32m~/.pyenv/versions/3.9.13/envs/repro-poetry/lib/python3.9/site-packages/TexSoup/data.py:892\u001b[0m, in \u001b[0;36mTexEnv.__init__\u001b[0;34m(self, name, begin, end, contents, args, preserve_whitespace, position)\u001b[0m\n\u001b[1;32m    871\u001b[0m \u001b[39mdef\u001b[39;00m \u001b[39m__init__\u001b[39m(\u001b[39mself\u001b[39m, name, begin, end, contents\u001b[39m=\u001b[39m(), args\u001b[39m=\u001b[39m(),\n\u001b[1;32m    872\u001b[0m              preserve_whitespace\u001b[39m=\u001b[39m\u001b[39mFalse\u001b[39;00m, position\u001b[39m=\u001b[39m\u001b[39m-\u001b[39m\u001b[39m1\u001b[39m):\n\u001b[1;32m    873\u001b[0m     \u001b[39mr\u001b[39m\u001b[39m\"\"\"Initialization for Tex environment.\u001b[39;00m\n\u001b[1;32m    874\u001b[0m \n\u001b[1;32m    875\u001b[0m \u001b[39m    :param str name: name of environment\u001b[39;00m\n\u001b[0;32m   (...)\u001b[0m\n\u001b[1;32m    890\u001b[0m \u001b[39m    '^^\\\\$**'\u001b[39;00m\n\u001b[1;32m    891\u001b[0m \u001b[39m    \"\"\"\u001b[39;00m\n\u001b[0;32m--> 892\u001b[0m     \u001b[39msuper\u001b[39;49m()\u001b[39m.\u001b[39;49m\u001b[39m__init__\u001b[39;49m(name, contents, args, preserve_whitespace, position)\n\u001b[1;32m    893\u001b[0m     \u001b[39mself\u001b[39m\u001b[39m.\u001b[39m_begin \u001b[39m=\u001b[39m begin\n\u001b[1;32m    894\u001b[0m     \u001b[39mself\u001b[39m\u001b[39m.\u001b[39m_end \u001b[39m=\u001b[39m end\n",
      "File \u001b[0;32m~/.pyenv/versions/3.9.13/envs/repro-poetry/lib/python3.9/site-packages/TexSoup/data.py:641\u001b[0m, in \u001b[0;36mTexExpr.__init__\u001b[0;34m(self, name, contents, args, preserve_whitespace, position)\u001b[0m\n\u001b[1;32m    639\u001b[0m \u001b[39mself\u001b[39m\u001b[39m.\u001b[39margs \u001b[39m=\u001b[39m TexArgs(args)\n\u001b[1;32m    640\u001b[0m \u001b[39mself\u001b[39m\u001b[39m.\u001b[39mparent \u001b[39m=\u001b[39m \u001b[39mNone\u001b[39;00m\n\u001b[0;32m--> 641\u001b[0m \u001b[39mself\u001b[39m\u001b[39m.\u001b[39m_contents \u001b[39m=\u001b[39m \u001b[39mlist\u001b[39;49m(contents) \u001b[39mor\u001b[39;00m []\n\u001b[1;32m    642\u001b[0m \u001b[39mself\u001b[39m\u001b[39m.\u001b[39mpreserve_whitespace \u001b[39m=\u001b[39m preserve_whitespace\n\u001b[1;32m    643\u001b[0m \u001b[39mself\u001b[39m\u001b[39m.\u001b[39mposition \u001b[39m=\u001b[39m position\n",
      "File \u001b[0;32m~/.pyenv/versions/3.9.13/envs/repro-poetry/lib/python3.9/site-packages/TexSoup/reader.py:49\u001b[0m, in \u001b[0;36mread_tex\u001b[0;34m(buf, skip_envs, tolerance)\u001b[0m\n\u001b[1;32m     40\u001b[0m \u001b[39mr\u001b[39m\u001b[39m\"\"\"Parse all expressions in buffer\u001b[39;00m\n\u001b[1;32m     41\u001b[0m \n\u001b[1;32m     42\u001b[0m \u001b[39m:param Buffer buf: a buffer of tokens\u001b[39;00m\n\u001b[0;32m   (...)\u001b[0m\n\u001b[1;32m     46\u001b[0m \u001b[39m:rtype: Iterable[TexExpr]\u001b[39;00m\n\u001b[1;32m     47\u001b[0m \u001b[39m\"\"\"\u001b[39;00m\n\u001b[1;32m     48\u001b[0m \u001b[39mwhile\u001b[39;00m buf\u001b[39m.\u001b[39mhasNext():\n\u001b[0;32m---> 49\u001b[0m     \u001b[39myield\u001b[39;00m read_expr(buf,\n\u001b[1;32m     50\u001b[0m                     skip_envs\u001b[39m=\u001b[39;49mSKIP_ENV_NAMES \u001b[39m+\u001b[39;49m skip_envs,\n\u001b[1;32m     51\u001b[0m                     tolerance\u001b[39m=\u001b[39;49mtolerance)\n",
      "File \u001b[0;32m~/.pyenv/versions/3.9.13/envs/repro-poetry/lib/python3.9/site-packages/TexSoup/reader.py:95\u001b[0m, in \u001b[0;36mread_expr\u001b[0;34m(src, skip_envs, tolerance, mode)\u001b[0m\n\u001b[1;32m     93\u001b[0m     \u001b[39mreturn\u001b[39;00m read_math_env(src, expr, tolerance\u001b[39m=\u001b[39mtolerance)\n\u001b[1;32m     94\u001b[0m \u001b[39melif\u001b[39;00m c\u001b[39m.\u001b[39mcategory \u001b[39m==\u001b[39m TC\u001b[39m.\u001b[39mEscape:\n\u001b[0;32m---> 95\u001b[0m     name, args \u001b[39m=\u001b[39m read_command(src, tolerance\u001b[39m=\u001b[39;49mtolerance, mode\u001b[39m=\u001b[39;49mmode)\n\u001b[1;32m     96\u001b[0m     \u001b[39mif\u001b[39;00m name \u001b[39m==\u001b[39m \u001b[39m'\u001b[39m\u001b[39mitem\u001b[39m\u001b[39m'\u001b[39m:\n\u001b[1;32m     97\u001b[0m         \u001b[39massert\u001b[39;00m mode \u001b[39m!=\u001b[39m MODE_MATH, \u001b[39m'\u001b[39m\u001b[39mCommand \u001b[39m\u001b[39m\\\u001b[39m\u001b[39mitem invalid in math mode.\u001b[39m\u001b[39m'\u001b[39m\n",
      "File \u001b[0;32m~/.pyenv/versions/3.9.13/envs/repro-poetry/lib/python3.9/site-packages/TexSoup/reader.py:540\u001b[0m, in \u001b[0;36mread_command\u001b[0;34m(buf, n_required_args, n_optional_args, skip, tolerance, mode)\u001b[0m\n\u001b[1;32m    538\u001b[0m \u001b[39mif\u001b[39;00m n_required_args \u001b[39m<\u001b[39m \u001b[39m0\u001b[39m \u001b[39mand\u001b[39;00m n_optional_args \u001b[39m<\u001b[39m \u001b[39m0\u001b[39m:\n\u001b[1;32m    539\u001b[0m     n_required_args, n_optional_args \u001b[39m=\u001b[39m SIGNATURES\u001b[39m.\u001b[39mget(name, (\u001b[39m-\u001b[39m\u001b[39m1\u001b[39m, \u001b[39m-\u001b[39m\u001b[39m1\u001b[39m))\n\u001b[0;32m--> 540\u001b[0m args \u001b[39m=\u001b[39m read_args(buf, n_required_args, n_optional_args,\n\u001b[1;32m    541\u001b[0m                  tolerance\u001b[39m=\u001b[39;49mtolerance, mode\u001b[39m=\u001b[39;49mmode)\n\u001b[1;32m    542\u001b[0m \u001b[39mreturn\u001b[39;00m name, args\n",
      "File \u001b[0;32m~/.pyenv/versions/3.9.13/envs/repro-poetry/lib/python3.9/site-packages/TexSoup/reader.py:347\u001b[0m, in \u001b[0;36mread_args\u001b[0;34m(src, n_required, n_optional, args, tolerance, mode)\u001b[0m\n\u001b[1;32m    345\u001b[0m     n_optional \u001b[39m=\u001b[39m read_arg_optional(src, args, n_optional, tolerance, mode)\n\u001b[1;32m    346\u001b[0m \u001b[39mif\u001b[39;00m src\u001b[39m.\u001b[39mhasNext() \u001b[39mand\u001b[39;00m src\u001b[39m.\u001b[39mpeek()\u001b[39m.\u001b[39mcategory \u001b[39m==\u001b[39m TC\u001b[39m.\u001b[39mGroupBegin:\n\u001b[0;32m--> 347\u001b[0m     n_required \u001b[39m=\u001b[39m read_arg_required(src, args, n_required, tolerance, mode)\n\u001b[1;32m    348\u001b[0m \u001b[39mreturn\u001b[39;00m args\n",
      "File \u001b[0;32m~/.pyenv/versions/3.9.13/envs/repro-poetry/lib/python3.9/site-packages/TexSoup/reader.py:417\u001b[0m, in \u001b[0;36mread_arg_required\u001b[0;34m(src, args, n_required, tolerance, mode)\u001b[0m\n\u001b[1;32m    414\u001b[0m spacer \u001b[39m=\u001b[39m read_spacer(src)\n\u001b[1;32m    416\u001b[0m \u001b[39mif\u001b[39;00m src\u001b[39m.\u001b[39mhasNext() \u001b[39mand\u001b[39;00m src\u001b[39m.\u001b[39mpeek()\u001b[39m.\u001b[39mcategory \u001b[39m==\u001b[39m TC\u001b[39m.\u001b[39mGroupBegin:\n\u001b[0;32m--> 417\u001b[0m     args\u001b[39m.\u001b[39mappend(read_arg(\n\u001b[1;32m    418\u001b[0m         src, \u001b[39mnext\u001b[39;49m(src), tolerance\u001b[39m=\u001b[39;49mtolerance, mode\u001b[39m=\u001b[39;49mmode))\n\u001b[1;32m    419\u001b[0m     n_required \u001b[39m-\u001b[39m\u001b[39m=\u001b[39m \u001b[39m1\u001b[39m\n\u001b[1;32m    420\u001b[0m     \u001b[39mcontinue\u001b[39;00m\n",
      "File \u001b[0;32m~/.pyenv/versions/3.9.13/envs/repro-poetry/lib/python3.9/site-packages/TexSoup/reader.py:461\u001b[0m, in \u001b[0;36mread_arg\u001b[0;34m(src, c, tolerance, mode)\u001b[0m\n\u001b[1;32m    459\u001b[0m         \u001b[39mreturn\u001b[39;00m arg(\u001b[39m*\u001b[39mcontent[\u001b[39m1\u001b[39m:], position\u001b[39m=\u001b[39mc\u001b[39m.\u001b[39mposition)\n\u001b[1;32m    460\u001b[0m     \u001b[39melse\u001b[39;00m:\n\u001b[0;32m--> 461\u001b[0m         content\u001b[39m.\u001b[39mappend(read_expr(src, tolerance\u001b[39m=\u001b[39;49mtolerance, mode\u001b[39m=\u001b[39;49mmode))\n\u001b[1;32m    463\u001b[0m \u001b[39mif\u001b[39;00m tolerance \u001b[39m==\u001b[39m \u001b[39m0\u001b[39m:\n\u001b[1;32m    464\u001b[0m     clo \u001b[39m=\u001b[39m CharToLineOffset(\u001b[39mstr\u001b[39m(src))\n",
      "File \u001b[0;32m~/.pyenv/versions/3.9.13/envs/repro-poetry/lib/python3.9/site-packages/TexSoup/reader.py:95\u001b[0m, in \u001b[0;36mread_expr\u001b[0;34m(src, skip_envs, tolerance, mode)\u001b[0m\n\u001b[1;32m     93\u001b[0m     \u001b[39mreturn\u001b[39;00m read_math_env(src, expr, tolerance\u001b[39m=\u001b[39mtolerance)\n\u001b[1;32m     94\u001b[0m \u001b[39melif\u001b[39;00m c\u001b[39m.\u001b[39mcategory \u001b[39m==\u001b[39m TC\u001b[39m.\u001b[39mEscape:\n\u001b[0;32m---> 95\u001b[0m     name, args \u001b[39m=\u001b[39m read_command(src, tolerance\u001b[39m=\u001b[39;49mtolerance, mode\u001b[39m=\u001b[39;49mmode)\n\u001b[1;32m     96\u001b[0m     \u001b[39mif\u001b[39;00m name \u001b[39m==\u001b[39m \u001b[39m'\u001b[39m\u001b[39mitem\u001b[39m\u001b[39m'\u001b[39m:\n\u001b[1;32m     97\u001b[0m         \u001b[39massert\u001b[39;00m mode \u001b[39m!=\u001b[39m MODE_MATH, \u001b[39m'\u001b[39m\u001b[39mCommand \u001b[39m\u001b[39m\\\u001b[39m\u001b[39mitem invalid in math mode.\u001b[39m\u001b[39m'\u001b[39m\n",
      "File \u001b[0;32m~/.pyenv/versions/3.9.13/envs/repro-poetry/lib/python3.9/site-packages/TexSoup/reader.py:540\u001b[0m, in \u001b[0;36mread_command\u001b[0;34m(buf, n_required_args, n_optional_args, skip, tolerance, mode)\u001b[0m\n\u001b[1;32m    538\u001b[0m \u001b[39mif\u001b[39;00m n_required_args \u001b[39m<\u001b[39m \u001b[39m0\u001b[39m \u001b[39mand\u001b[39;00m n_optional_args \u001b[39m<\u001b[39m \u001b[39m0\u001b[39m:\n\u001b[1;32m    539\u001b[0m     n_required_args, n_optional_args \u001b[39m=\u001b[39m SIGNATURES\u001b[39m.\u001b[39mget(name, (\u001b[39m-\u001b[39m\u001b[39m1\u001b[39m, \u001b[39m-\u001b[39m\u001b[39m1\u001b[39m))\n\u001b[0;32m--> 540\u001b[0m args \u001b[39m=\u001b[39m read_args(buf, n_required_args, n_optional_args,\n\u001b[1;32m    541\u001b[0m                  tolerance\u001b[39m=\u001b[39;49mtolerance, mode\u001b[39m=\u001b[39;49mmode)\n\u001b[1;32m    542\u001b[0m \u001b[39mreturn\u001b[39;00m name, args\n",
      "File \u001b[0;32m~/.pyenv/versions/3.9.13/envs/repro-poetry/lib/python3.9/site-packages/TexSoup/reader.py:347\u001b[0m, in \u001b[0;36mread_args\u001b[0;34m(src, n_required, n_optional, args, tolerance, mode)\u001b[0m\n\u001b[1;32m    345\u001b[0m     n_optional \u001b[39m=\u001b[39m read_arg_optional(src, args, n_optional, tolerance, mode)\n\u001b[1;32m    346\u001b[0m \u001b[39mif\u001b[39;00m src\u001b[39m.\u001b[39mhasNext() \u001b[39mand\u001b[39;00m src\u001b[39m.\u001b[39mpeek()\u001b[39m.\u001b[39mcategory \u001b[39m==\u001b[39m TC\u001b[39m.\u001b[39mGroupBegin:\n\u001b[0;32m--> 347\u001b[0m     n_required \u001b[39m=\u001b[39m read_arg_required(src, args, n_required, tolerance, mode)\n\u001b[1;32m    348\u001b[0m \u001b[39mreturn\u001b[39;00m args\n",
      "File \u001b[0;32m~/.pyenv/versions/3.9.13/envs/repro-poetry/lib/python3.9/site-packages/TexSoup/reader.py:417\u001b[0m, in \u001b[0;36mread_arg_required\u001b[0;34m(src, args, n_required, tolerance, mode)\u001b[0m\n\u001b[1;32m    414\u001b[0m spacer \u001b[39m=\u001b[39m read_spacer(src)\n\u001b[1;32m    416\u001b[0m \u001b[39mif\u001b[39;00m src\u001b[39m.\u001b[39mhasNext() \u001b[39mand\u001b[39;00m src\u001b[39m.\u001b[39mpeek()\u001b[39m.\u001b[39mcategory \u001b[39m==\u001b[39m TC\u001b[39m.\u001b[39mGroupBegin:\n\u001b[0;32m--> 417\u001b[0m     args\u001b[39m.\u001b[39mappend(read_arg(\n\u001b[1;32m    418\u001b[0m         src, \u001b[39mnext\u001b[39;49m(src), tolerance\u001b[39m=\u001b[39;49mtolerance, mode\u001b[39m=\u001b[39;49mmode))\n\u001b[1;32m    419\u001b[0m     n_required \u001b[39m-\u001b[39m\u001b[39m=\u001b[39m \u001b[39m1\u001b[39m\n\u001b[1;32m    420\u001b[0m     \u001b[39mcontinue\u001b[39;00m\n",
      "File \u001b[0;32m~/.pyenv/versions/3.9.13/envs/repro-poetry/lib/python3.9/site-packages/TexSoup/reader.py:461\u001b[0m, in \u001b[0;36mread_arg\u001b[0;34m(src, c, tolerance, mode)\u001b[0m\n\u001b[1;32m    459\u001b[0m         \u001b[39mreturn\u001b[39;00m arg(\u001b[39m*\u001b[39mcontent[\u001b[39m1\u001b[39m:], position\u001b[39m=\u001b[39mc\u001b[39m.\u001b[39mposition)\n\u001b[1;32m    460\u001b[0m     \u001b[39melse\u001b[39;00m:\n\u001b[0;32m--> 461\u001b[0m         content\u001b[39m.\u001b[39mappend(read_expr(src, tolerance\u001b[39m=\u001b[39;49mtolerance, mode\u001b[39m=\u001b[39;49mmode))\n\u001b[1;32m    463\u001b[0m \u001b[39mif\u001b[39;00m tolerance \u001b[39m==\u001b[39m \u001b[39m0\u001b[39m:\n\u001b[1;32m    464\u001b[0m     clo \u001b[39m=\u001b[39m CharToLineOffset(\u001b[39mstr\u001b[39m(src))\n",
      "File \u001b[0;32m~/.pyenv/versions/3.9.13/envs/repro-poetry/lib/python3.9/site-packages/TexSoup/reader.py:109\u001b[0m, in \u001b[0;36mread_expr\u001b[0;34m(src, skip_envs, tolerance, mode)\u001b[0m\n\u001b[1;32m    107\u001b[0m         read_skip_env(src, expr)\n\u001b[1;32m    108\u001b[0m     \u001b[39melse\u001b[39;00m:\n\u001b[0;32m--> 109\u001b[0m         read_env(src, expr, tolerance\u001b[39m=\u001b[39;49mtolerance, mode\u001b[39m=\u001b[39;49mmode)\n\u001b[1;32m    110\u001b[0m \u001b[39melse\u001b[39;00m:\n\u001b[1;32m    111\u001b[0m     expr \u001b[39m=\u001b[39m TexCmd(name, args\u001b[39m=\u001b[39margs, position\u001b[39m=\u001b[39mc\u001b[39m.\u001b[39mposition)\n",
      "File \u001b[0;32m~/.pyenv/versions/3.9.13/envs/repro-poetry/lib/python3.9/site-packages/TexSoup/reader.py:281\u001b[0m, in \u001b[0;36mread_env\u001b[0;34m(src, expr, tolerance, mode)\u001b[0m\n\u001b[1;32m    279\u001b[0m         \u001b[39mif\u001b[39;00m name \u001b[39m==\u001b[39m \u001b[39m'\u001b[39m\u001b[39mend\u001b[39m\u001b[39m'\u001b[39m:\n\u001b[1;32m    280\u001b[0m             \u001b[39mbreak\u001b[39;00m\n\u001b[0;32m--> 281\u001b[0m     contents\u001b[39m.\u001b[39mappend(read_expr(src, tolerance\u001b[39m=\u001b[39;49mtolerance, mode\u001b[39m=\u001b[39;49mmode))\n\u001b[1;32m    282\u001b[0m error \u001b[39m=\u001b[39m \u001b[39mnot\u001b[39;00m src\u001b[39m.\u001b[39mhasNext() \u001b[39mor\u001b[39;00m \u001b[39mnot\u001b[39;00m args \u001b[39mor\u001b[39;00m args[\u001b[39m0\u001b[39m]\u001b[39m.\u001b[39mstring \u001b[39m!=\u001b[39m expr\u001b[39m.\u001b[39mname\n\u001b[1;32m    283\u001b[0m \u001b[39mif\u001b[39;00m error \u001b[39mand\u001b[39;00m tolerance \u001b[39m==\u001b[39m \u001b[39m0\u001b[39m:\n",
      "File \u001b[0;32m~/.pyenv/versions/3.9.13/envs/repro-poetry/lib/python3.9/site-packages/TexSoup/reader.py:93\u001b[0m, in \u001b[0;36mread_expr\u001b[0;34m(src, skip_envs, tolerance, mode)\u001b[0m\n\u001b[1;32m     91\u001b[0m \u001b[39mif\u001b[39;00m c\u001b[39m.\u001b[39mcategory \u001b[39min\u001b[39;00m MATH_TOKEN_TO_ENV\u001b[39m.\u001b[39mkeys():\n\u001b[1;32m     92\u001b[0m     expr \u001b[39m=\u001b[39m MATH_TOKEN_TO_ENV[c\u001b[39m.\u001b[39mcategory]([], position\u001b[39m=\u001b[39mc\u001b[39m.\u001b[39mposition)\n\u001b[0;32m---> 93\u001b[0m     \u001b[39mreturn\u001b[39;00m read_math_env(src, expr, tolerance\u001b[39m=\u001b[39;49mtolerance)\n\u001b[1;32m     94\u001b[0m \u001b[39melif\u001b[39;00m c\u001b[39m.\u001b[39mcategory \u001b[39m==\u001b[39m TC\u001b[39m.\u001b[39mEscape:\n\u001b[1;32m     95\u001b[0m     name, args \u001b[39m=\u001b[39m read_command(src, tolerance\u001b[39m=\u001b[39mtolerance, mode\u001b[39m=\u001b[39mmode)\n",
      "File \u001b[0;32m~/.pyenv/versions/3.9.13/envs/repro-poetry/lib/python3.9/site-packages/TexSoup/reader.py:210\u001b[0m, in \u001b[0;36mread_math_env\u001b[0;34m(src, expr, tolerance)\u001b[0m\n\u001b[1;32m    208\u001b[0m contents \u001b[39m=\u001b[39m []\n\u001b[1;32m    209\u001b[0m \u001b[39mwhile\u001b[39;00m src\u001b[39m.\u001b[39mhasNext() \u001b[39mand\u001b[39;00m src\u001b[39m.\u001b[39mpeek()\u001b[39m.\u001b[39mcategory \u001b[39m!=\u001b[39m expr\u001b[39m.\u001b[39mtoken_end:\n\u001b[0;32m--> 210\u001b[0m     contents\u001b[39m.\u001b[39mappend(read_expr(src, tolerance\u001b[39m=\u001b[39;49mtolerance, mode\u001b[39m=\u001b[39;49mMODE_MATH))\n\u001b[1;32m    211\u001b[0m \u001b[39mif\u001b[39;00m \u001b[39mnot\u001b[39;00m src\u001b[39m.\u001b[39mhasNext() \u001b[39mor\u001b[39;00m src\u001b[39m.\u001b[39mpeek()\u001b[39m.\u001b[39mcategory \u001b[39m!=\u001b[39m expr\u001b[39m.\u001b[39mtoken_end:\n\u001b[1;32m    212\u001b[0m     unclosed_env_handler(src, expr, src\u001b[39m.\u001b[39mpeek())\n",
      "File \u001b[0;32m~/.pyenv/versions/3.9.13/envs/repro-poetry/lib/python3.9/site-packages/TexSoup/reader.py:109\u001b[0m, in \u001b[0;36mread_expr\u001b[0;34m(src, skip_envs, tolerance, mode)\u001b[0m\n\u001b[1;32m    107\u001b[0m         read_skip_env(src, expr)\n\u001b[1;32m    108\u001b[0m     \u001b[39melse\u001b[39;00m:\n\u001b[0;32m--> 109\u001b[0m         read_env(src, expr, tolerance\u001b[39m=\u001b[39;49mtolerance, mode\u001b[39m=\u001b[39;49mmode)\n\u001b[1;32m    110\u001b[0m \u001b[39melse\u001b[39;00m:\n\u001b[1;32m    111\u001b[0m     expr \u001b[39m=\u001b[39m TexCmd(name, args\u001b[39m=\u001b[39margs, position\u001b[39m=\u001b[39mc\u001b[39m.\u001b[39mposition)\n",
      "File \u001b[0;32m~/.pyenv/versions/3.9.13/envs/repro-poetry/lib/python3.9/site-packages/TexSoup/reader.py:284\u001b[0m, in \u001b[0;36mread_env\u001b[0;34m(src, expr, tolerance, mode)\u001b[0m\n\u001b[1;32m    282\u001b[0m error \u001b[39m=\u001b[39m \u001b[39mnot\u001b[39;00m src\u001b[39m.\u001b[39mhasNext() \u001b[39mor\u001b[39;00m \u001b[39mnot\u001b[39;00m args \u001b[39mor\u001b[39;00m args[\u001b[39m0\u001b[39m]\u001b[39m.\u001b[39mstring \u001b[39m!=\u001b[39m expr\u001b[39m.\u001b[39mname\n\u001b[1;32m    283\u001b[0m \u001b[39mif\u001b[39;00m error \u001b[39mand\u001b[39;00m tolerance \u001b[39m==\u001b[39m \u001b[39m0\u001b[39m:\n\u001b[0;32m--> 284\u001b[0m     unclosed_env_handler(src, expr, src\u001b[39m.\u001b[39;49mpeek((\u001b[39m0\u001b[39;49m, \u001b[39m6\u001b[39;49m)))\n\u001b[1;32m    285\u001b[0m \u001b[39melif\u001b[39;00m \u001b[39mnot\u001b[39;00m error:\n\u001b[1;32m    286\u001b[0m     src\u001b[39m.\u001b[39mforward(\u001b[39m5\u001b[39m)\n",
      "File \u001b[0;32m~/.pyenv/versions/3.9.13/envs/repro-poetry/lib/python3.9/site-packages/TexSoup/reader.py:186\u001b[0m, in \u001b[0;36munclosed_env_handler\u001b[0;34m(src, expr, end)\u001b[0m\n\u001b[1;32m    184\u001b[0m explanation \u001b[39m=\u001b[39m \u001b[39m'\u001b[39m\u001b[39mInstead got \u001b[39m\u001b[39m%s\u001b[39;00m\u001b[39m'\u001b[39m \u001b[39m%\u001b[39m end \u001b[39mif\u001b[39;00m end \u001b[39melse\u001b[39;00m \u001b[39m'\u001b[39m\u001b[39mReached end of file.\u001b[39m\u001b[39m'\u001b[39m\n\u001b[1;32m    185\u001b[0m line, offset \u001b[39m=\u001b[39m clo(src\u001b[39m.\u001b[39mposition)\n\u001b[0;32m--> 186\u001b[0m \u001b[39mraise\u001b[39;00m \u001b[39mEOFError\u001b[39;00m(\u001b[39m'\u001b[39m\u001b[39m[Line: \u001b[39m\u001b[39m%d\u001b[39;00m\u001b[39m, Offset: \u001b[39m\u001b[39m%d\u001b[39;00m\u001b[39m] \u001b[39m\u001b[39m\"\u001b[39m\u001b[39m%s\u001b[39;00m\u001b[39m\"\u001b[39m\u001b[39m env expecting \u001b[39m\u001b[39m%s\u001b[39;00m\u001b[39m. \u001b[39m\u001b[39m%s\u001b[39;00m\u001b[39m'\u001b[39m \u001b[39m%\u001b[39m (\n\u001b[1;32m    187\u001b[0m     line, offset, expr\u001b[39m.\u001b[39mname, expr\u001b[39m.\u001b[39mend, explanation))\n",
      "\u001b[0;31mEOFError\u001b[0m: [Line: 0, Offset: 6761] \"equation\" env expecting \\end{equation}. Instead got \\end{array}\\"
     ]
    }
   ],
   "source": [
    "# from tex2py import tex2py\n",
    "from TexSoup import TexSoup\n",
    "\n",
    "with open('../case-studies/arxiv-corpus/mine50/source/1903.09668/final.tex') as f: \n",
    "    data = f.read()\n",
    "    soup = TexSoup(data)"
   ]
  },
  {
   "cell_type": "code",
   "execution_count": 1,
   "metadata": {},
   "outputs": [
    {
     "ename": "NameError",
     "evalue": "name 'TexSoup' is not defined",
     "output_type": "error",
     "traceback": [
      "\u001b[0;31m---------------------------------------------------------------------------\u001b[0m",
      "\u001b[0;31mNameError\u001b[0m                                 Traceback (most recent call last)",
      "Cell \u001b[0;32mIn [1], line 3\u001b[0m\n\u001b[1;32m      1\u001b[0m \u001b[39mwith\u001b[39;00m \u001b[39mopen\u001b[39m(\u001b[39m'\u001b[39m\u001b[39m../case-studies/arxiv-corpus/mine50/source/1904.10554/main.tex\u001b[39m\u001b[39m'\u001b[39m) \u001b[39mas\u001b[39;00m f: \n\u001b[1;32m      2\u001b[0m     data \u001b[39m=\u001b[39m f\u001b[39m.\u001b[39mread()\n\u001b[0;32m----> 3\u001b[0m     soup \u001b[39m=\u001b[39m TexSoup(data)\n",
      "\u001b[0;31mNameError\u001b[0m: name 'TexSoup' is not defined"
     ]
    }
   ],
   "source": [
    "with open('../case-studies/arxiv-corpus/mine50/source/1904.10554/main.tex') as f: \n",
    "    data = f.read()\n",
    "    soup = TexSoup(data)"
   ]
  },
  {
   "cell_type": "code",
   "execution_count": 30,
   "metadata": {},
   "outputs": [
    {
     "ename": "AttributeError",
     "evalue": "'str' object has no attribute 'name'",
     "output_type": "error",
     "traceback": [
      "\u001b[0;31m---------------------------------------------------------------------------\u001b[0m",
      "\u001b[0;31mAttributeError\u001b[0m                            Traceback (most recent call last)",
      "\u001b[0;32m/var/folders/gs/yg50jqtx5ydbcm97rdnlm7m40000gn/T/ipykernel_51203/1417393886.py\u001b[0m in \u001b[0;36m<module>\u001b[0;34m\u001b[0m\n\u001b[1;32m      2\u001b[0m        \u001b[0mdata\u001b[0m \u001b[0;34m=\u001b[0m \u001b[0mf\u001b[0m\u001b[0;34m.\u001b[0m\u001b[0mread\u001b[0m\u001b[0;34m(\u001b[0m\u001b[0;34m)\u001b[0m\u001b[0;34m\u001b[0m\u001b[0;34m\u001b[0m\u001b[0m\n\u001b[1;32m      3\u001b[0m        \u001b[0mtoc\u001b[0m \u001b[0;34m=\u001b[0m \u001b[0mtex2py\u001b[0m\u001b[0;34m(\u001b[0m\u001b[0mdata\u001b[0m\u001b[0;34m)\u001b[0m\u001b[0;34m\u001b[0m\u001b[0;34m\u001b[0m\u001b[0m\n\u001b[0;32m----> 4\u001b[0;31m        \u001b[0mprint\u001b[0m\u001b[0;34m(\u001b[0m\u001b[0mtoc\u001b[0m\u001b[0;34m.\u001b[0m\u001b[0msection\u001b[0m\u001b[0;34m)\u001b[0m\u001b[0;34m\u001b[0m\u001b[0;34m\u001b[0m\u001b[0m\n\u001b[0m",
      "\u001b[0;32m~/.pyenv/versions/3.9.1/lib/python3.9/site-packages/tex2py/tex2py.py\u001b[0m in \u001b[0;36m__getattr__\u001b[0;34m(self, attr)\u001b[0m\n\u001b[1;32m    185\u001b[0m             \u001b[0;32mreturn\u001b[0m \u001b[0mgetattr\u001b[0m\u001b[0;34m(\u001b[0m\u001b[0mself\u001b[0m\u001b[0;34m.\u001b[0m\u001b[0msource\u001b[0m\u001b[0;34m,\u001b[0m \u001b[0mattr\u001b[0m\u001b[0;34m,\u001b[0m \u001b[0;34m''\u001b[0m\u001b[0;34m)\u001b[0m\u001b[0;34m\u001b[0m\u001b[0;34m\u001b[0m\u001b[0m\n\u001b[1;32m    186\u001b[0m         \u001b[0;32mif\u001b[0m \u001b[0mattr\u001b[0m \u001b[0;32min\u001b[0m \u001b[0mself\u001b[0m\u001b[0;34m.\u001b[0m\u001b[0mvalid_tags\u001b[0m\u001b[0;34m:\u001b[0m\u001b[0;34m\u001b[0m\u001b[0;34m\u001b[0m\u001b[0m\n\u001b[0;32m--> 187\u001b[0;31m             \u001b[0;32mreturn\u001b[0m \u001b[0mnext\u001b[0m\u001b[0;34m(\u001b[0m\u001b[0mfilter\u001b[0m\u001b[0;34m(\u001b[0m\u001b[0;32mlambda\u001b[0m \u001b[0mt\u001b[0m\u001b[0;34m:\u001b[0m \u001b[0mt\u001b[0m\u001b[0;34m.\u001b[0m\u001b[0msource\u001b[0m\u001b[0;34m.\u001b[0m\u001b[0mname\u001b[0m \u001b[0;34m==\u001b[0m \u001b[0mattr\u001b[0m\u001b[0;34m,\u001b[0m \u001b[0mself\u001b[0m\u001b[0;34m.\u001b[0m\u001b[0mbranches\u001b[0m\u001b[0;34m)\u001b[0m\u001b[0;34m,\u001b[0m \u001b[0;32mNone\u001b[0m\u001b[0;34m)\u001b[0m\u001b[0;34m\u001b[0m\u001b[0;34m\u001b[0m\u001b[0m\n\u001b[0m\u001b[1;32m    188\u001b[0m         \u001b[0;32mif\u001b[0m \u001b[0mattr\u001b[0m\u001b[0;34m[\u001b[0m\u001b[0;34m-\u001b[0m\u001b[0;36m1\u001b[0m\u001b[0;34m]\u001b[0m \u001b[0;34m==\u001b[0m \u001b[0;34m's'\u001b[0m \u001b[0;32mand\u001b[0m \u001b[0mtag\u001b[0m \u001b[0;32min\u001b[0m \u001b[0mself\u001b[0m\u001b[0;34m.\u001b[0m\u001b[0mvalid_tags\u001b[0m\u001b[0;34m:\u001b[0m\u001b[0;34m\u001b[0m\u001b[0;34m\u001b[0m\u001b[0m\n\u001b[1;32m    189\u001b[0m             \u001b[0mcondition\u001b[0m \u001b[0;34m=\u001b[0m \u001b[0;32mlambda\u001b[0m \u001b[0mt\u001b[0m\u001b[0;34m:\u001b[0m \u001b[0mt\u001b[0m\u001b[0;34m.\u001b[0m\u001b[0msource\u001b[0m\u001b[0;34m.\u001b[0m\u001b[0mname\u001b[0m \u001b[0;34m==\u001b[0m \u001b[0mtag\u001b[0m\u001b[0;34m\u001b[0m\u001b[0;34m\u001b[0m\u001b[0m\n",
      "\u001b[0;32m~/.pyenv/versions/3.9.1/lib/python3.9/site-packages/tex2py/tex2py.py\u001b[0m in \u001b[0;36m<lambda>\u001b[0;34m(t)\u001b[0m\n\u001b[1;32m    185\u001b[0m             \u001b[0;32mreturn\u001b[0m \u001b[0mgetattr\u001b[0m\u001b[0;34m(\u001b[0m\u001b[0mself\u001b[0m\u001b[0;34m.\u001b[0m\u001b[0msource\u001b[0m\u001b[0;34m,\u001b[0m \u001b[0mattr\u001b[0m\u001b[0;34m,\u001b[0m \u001b[0;34m''\u001b[0m\u001b[0;34m)\u001b[0m\u001b[0;34m\u001b[0m\u001b[0;34m\u001b[0m\u001b[0m\n\u001b[1;32m    186\u001b[0m         \u001b[0;32mif\u001b[0m \u001b[0mattr\u001b[0m \u001b[0;32min\u001b[0m \u001b[0mself\u001b[0m\u001b[0;34m.\u001b[0m\u001b[0mvalid_tags\u001b[0m\u001b[0;34m:\u001b[0m\u001b[0;34m\u001b[0m\u001b[0;34m\u001b[0m\u001b[0m\n\u001b[0;32m--> 187\u001b[0;31m             \u001b[0;32mreturn\u001b[0m \u001b[0mnext\u001b[0m\u001b[0;34m(\u001b[0m\u001b[0mfilter\u001b[0m\u001b[0;34m(\u001b[0m\u001b[0;32mlambda\u001b[0m \u001b[0mt\u001b[0m\u001b[0;34m:\u001b[0m \u001b[0mt\u001b[0m\u001b[0;34m.\u001b[0m\u001b[0msource\u001b[0m\u001b[0;34m.\u001b[0m\u001b[0mname\u001b[0m \u001b[0;34m==\u001b[0m \u001b[0mattr\u001b[0m\u001b[0;34m,\u001b[0m \u001b[0mself\u001b[0m\u001b[0;34m.\u001b[0m\u001b[0mbranches\u001b[0m\u001b[0;34m)\u001b[0m\u001b[0;34m,\u001b[0m \u001b[0;32mNone\u001b[0m\u001b[0;34m)\u001b[0m\u001b[0;34m\u001b[0m\u001b[0;34m\u001b[0m\u001b[0m\n\u001b[0m\u001b[1;32m    188\u001b[0m         \u001b[0;32mif\u001b[0m \u001b[0mattr\u001b[0m\u001b[0;34m[\u001b[0m\u001b[0;34m-\u001b[0m\u001b[0;36m1\u001b[0m\u001b[0;34m]\u001b[0m \u001b[0;34m==\u001b[0m \u001b[0;34m's'\u001b[0m \u001b[0;32mand\u001b[0m \u001b[0mtag\u001b[0m \u001b[0;32min\u001b[0m \u001b[0mself\u001b[0m\u001b[0;34m.\u001b[0m\u001b[0mvalid_tags\u001b[0m\u001b[0;34m:\u001b[0m\u001b[0;34m\u001b[0m\u001b[0;34m\u001b[0m\u001b[0m\n\u001b[1;32m    189\u001b[0m             \u001b[0mcondition\u001b[0m \u001b[0;34m=\u001b[0m \u001b[0;32mlambda\u001b[0m \u001b[0mt\u001b[0m\u001b[0;34m:\u001b[0m \u001b[0mt\u001b[0m\u001b[0;34m.\u001b[0m\u001b[0msource\u001b[0m\u001b[0;34m.\u001b[0m\u001b[0mname\u001b[0m \u001b[0;34m==\u001b[0m \u001b[0mtag\u001b[0m\u001b[0;34m\u001b[0m\u001b[0;34m\u001b[0m\u001b[0m\n",
      "\u001b[0;32m~/.pyenv/versions/3.9.1/lib/python3.9/site-packages/TexSoup/utils.py\u001b[0m in \u001b[0;36m__getattr__\u001b[0;34m(self, name)\u001b[0m\n\u001b[1;32m     61\u001b[0m \u001b[0;34m\u001b[0m\u001b[0m\n\u001b[1;32m     62\u001b[0m     \u001b[0;32mdef\u001b[0m \u001b[0m__getattr__\u001b[0m\u001b[0;34m(\u001b[0m\u001b[0mself\u001b[0m\u001b[0;34m,\u001b[0m \u001b[0mname\u001b[0m\u001b[0;34m)\u001b[0m\u001b[0;34m:\u001b[0m\u001b[0;34m\u001b[0m\u001b[0;34m\u001b[0m\u001b[0m\n\u001b[0;32m---> 63\u001b[0;31m         \u001b[0;32mreturn\u001b[0m \u001b[0mgetattr\u001b[0m\u001b[0;34m(\u001b[0m\u001b[0mself\u001b[0m\u001b[0;34m.\u001b[0m\u001b[0mtext\u001b[0m\u001b[0;34m,\u001b[0m \u001b[0mname\u001b[0m\u001b[0;34m)\u001b[0m\u001b[0;34m\u001b[0m\u001b[0;34m\u001b[0m\u001b[0m\n\u001b[0m\u001b[1;32m     64\u001b[0m \u001b[0;34m\u001b[0m\u001b[0m\n\u001b[1;32m     65\u001b[0m     \u001b[0;32mdef\u001b[0m \u001b[0m__eq__\u001b[0m\u001b[0;34m(\u001b[0m\u001b[0mself\u001b[0m\u001b[0;34m,\u001b[0m \u001b[0mother\u001b[0m\u001b[0;34m)\u001b[0m\u001b[0;34m:\u001b[0m\u001b[0;34m\u001b[0m\u001b[0;34m\u001b[0m\u001b[0m\n",
      "\u001b[0;31mAttributeError\u001b[0m: 'str' object has no attribute 'name'"
     ]
    }
   ],
   "source": [
    "with open(tex_list[0]) as f: \n",
    "       data = f.read()\n",
    "       toc = tex2py(data)\n",
    "       print(toc.section)"
   ]
  },
  {
   "cell_type": "code",
   "execution_count": 7,
   "metadata": {},
   "outputs": [
    {
     "data": {
      "text/plain": [
       "'Hello \\textit{world}.'"
      ]
     },
     "execution_count": 7,
     "metadata": {},
     "output_type": "execute_result"
    }
   ],
   "source": [
    "soup = TexSoup(\"\"\"\n",
    "\\begin{document}\n",
    "\n",
    "\\section{Hello \\textit{world}.}\n",
    "\n",
    "\\subsection{Watermelon}\n",
    "\n",
    "(n.) A sacred fruit. Also known as:\n",
    "\n",
    "\\begin{itemize}\n",
    "\\item red lemon\n",
    "\\item life\n",
    "\\end{itemize}\n",
    "\n",
    "Here is the prevalence of each synonym.\n",
    "\n",
    "\\begin{tabular}{c c}\n",
    "red lemon & uncommon \\\\\n",
    "life & common\n",
    "\\end{tabular}\n",
    "\n",
    "\\end{document}\n",
    "\"\"\")\n",
    "soup.section.string"
   ]
  },
  {
   "cell_type": "code",
   "execution_count": 2,
   "metadata": {},
   "outputs": [
    {
     "name": "stdout",
     "output_type": "stream",
     "text": [
      "['../case-studies/arxiv-corpus/mine50/source/2010.04261/colt-2022-VOLDNN.tex', '../case-studies/arxiv-corpus/mine50/source/2010.04261/hessian_structure.tex', '../case-studies/arxiv-corpus/mine50/source/2010.04261/appendix_colt.tex', '../case-studies/arxiv-corpus/mine50/source/2010.04261/theoretical_analysis.tex', '../case-studies/arxiv-corpus/mine50/source/2010.04261/appendix.tex', '../case-studies/arxiv-corpus/mine50/source/2010.04261/VOLDNN_arXiv.tex', '../case-studies/arxiv-corpus/mine50/source/2010.04261/preliminaries.tex', '../case-studies/arxiv-corpus/mine50/source/2010.04261/pac_bayes.tex', '../case-studies/arxiv-corpus/mine50/source/2010.04261/old_intro.tex', '../case-studies/arxiv-corpus/mine50/source/2010.04261/projection_optimization.tex', '../case-studies/arxiv-corpus/mine50/source/2010.04261/graveyard.tex', '../case-studies/arxiv-corpus/mine50/source/2010.04261/related.tex', '../case-studies/arxiv-corpus/mine50/source/2010.04261/intro.tex', '../case-studies/arxiv-corpus/mine50/source/2010.04261/hessian_empirical.tex', '../case-studies/arxiv-corpus/mine50/source/2010.04261/abs.tex', '../case-studies/arxiv-corpus/mine50/source/2010.04261/review_response.tex', '../case-studies/arxiv-corpus/mine50/source/2010.04261/templete.tex', '../case-studies/arxiv-corpus/mine50/source/2010.04261/math_commands.tex', '../case-studies/arxiv-corpus/mine50/source/2010.04261/conclusions.tex']\n"
     ]
    }
   ],
   "source": [
    "import glob\n",
    "tex_list = glob.glob('../case-studies/arxiv-corpus/mine50/source/2010.04261/*.tex')\n",
    "for i in range(len(tex_list)):\n",
    "    with open(tex_list[i]) as f: \n",
    "        data = f.read()\n",
    "        # toc = tex2py(data)\n",
    "print(tex_list)"
   ]
  },
  {
   "cell_type": "code",
   "execution_count": 19,
   "metadata": {},
   "outputs": [
    {
     "ename": "OSError",
     "evalue": "[Errno 28] No space left on device",
     "output_type": "error",
     "traceback": [
      "\u001b[0;31m---------------------------------------------------------------------------\u001b[0m",
      "\u001b[0;31mOSError\u001b[0m                                   Traceback (most recent call last)",
      "Cell \u001b[0;32mIn [19], line 4\u001b[0m\n\u001b[1;32m      1\u001b[0m sys\u001b[39m.\u001b[39mpath\u001b[39m.\u001b[39minsert(\u001b[39m0\u001b[39m, \u001b[39m'\u001b[39m\u001b[39m../src/\u001b[39m\u001b[39m'\u001b[39m)\n\u001b[1;32m      2\u001b[0m \u001b[39mimport\u001b[39;00m \u001b[39mread_tex\u001b[39;00m \u001b[39mas\u001b[39;00m \u001b[39mrt\u001b[39;00m\n\u001b[0;32m----> 4\u001b[0m combined_path \u001b[39m=\u001b[39m rt\u001b[39m.\u001b[39;49mcombine_tex_in_folder(\u001b[39m'\u001b[39;49m\u001b[39m../case-studies/arxiv-corpus/mine50/source/2010.04261/\u001b[39;49m\u001b[39m'\u001b[39;49m)\n\u001b[1;32m      5\u001b[0m \u001b[39m# with open(combined_path) as f: \u001b[39;00m\n\u001b[1;32m      6\u001b[0m \u001b[39m#     data = f.read()\u001b[39;00m\n\u001b[1;32m      7\u001b[0m \u001b[39m#     print(data)\u001b[39;00m\n",
      "File \u001b[0;32m~/stuff/gitclones/repro-screener/tests/../src/read_tex.py:14\u001b[0m, in \u001b[0;36mcombine_tex_in_folder\u001b[0;34m(folder_path)\u001b[0m\n\u001b[1;32m     12\u001b[0m     \u001b[39mfor\u001b[39;00m tex \u001b[39min\u001b[39;00m tex_list:\n\u001b[1;32m     13\u001b[0m         \u001b[39mwith\u001b[39;00m \u001b[39mopen\u001b[39m(tex, \u001b[39m\"\u001b[39m\u001b[39mrb\u001b[39m\u001b[39m\"\u001b[39m) \u001b[39mas\u001b[39;00m infile:\n\u001b[0;32m---> 14\u001b[0m             shutil\u001b[39m.\u001b[39;49mcopyfileobj(infile, outfile)\n\u001b[1;32m     15\u001b[0m \u001b[39mreturn\u001b[39;00m(combined_path)\n",
      "File \u001b[0;32m~/.pyenv/versions/3.9.13/lib/python3.9/shutil.py:208\u001b[0m, in \u001b[0;36mcopyfileobj\u001b[0;34m(fsrc, fdst, length)\u001b[0m\n\u001b[1;32m    206\u001b[0m \u001b[39mif\u001b[39;00m \u001b[39mnot\u001b[39;00m buf:\n\u001b[1;32m    207\u001b[0m     \u001b[39mbreak\u001b[39;00m\n\u001b[0;32m--> 208\u001b[0m fdst_write(buf)\n",
      "\u001b[0;31mOSError\u001b[0m: [Errno 28] No space left on device"
     ]
    }
   ],
   "source": [
    "sys.path.insert(0, '../src/')\n",
    "import read_tex as rt\n",
    "\n",
    "combined_path = rt.combine_tex_in_folder('../case-studies/arxiv-corpus/mine50/source/2010.04261/')\n",
    "# with open(combined_path) as f: \n",
    "#     data = f.read()\n",
    "#     print(data)"
   ]
  }
 ],
 "metadata": {
  "kernelspec": {
   "display_name": "Python 3.9.13 64-bit ('repro-poetry')",
   "language": "python",
   "name": "python3"
  },
  "language_info": {
   "codemirror_mode": {
    "name": "ipython",
    "version": 3
   },
   "file_extension": ".py",
   "mimetype": "text/x-python",
   "name": "python",
   "nbconvert_exporter": "python",
   "pygments_lexer": "ipython3",
   "version": "3.9.13"
  },
  "orig_nbformat": 4,
  "vscode": {
   "interpreter": {
    "hash": "2fa3c24ad859e823c53a6fd66d5b07ffed58de1474dcab39621eae0c7968ad33"
   }
  }
 },
 "nbformat": 4,
 "nbformat_minor": 2
}
