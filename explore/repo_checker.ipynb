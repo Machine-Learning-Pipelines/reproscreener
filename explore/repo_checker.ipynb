{
 "cells": [
  {
   "cell_type": "code",
   "execution_count": 3,
   "metadata": {},
   "outputs": [
    {
     "name": "stdout",
     "output_type": "stream",
     "text": [
      "Your browser has been opened to visit:\n",
      "\n",
      "    https://accounts.google.com/o/oauth2/auth?client_id=866222568272-sskl2pdnfp0aj694b1f3v9o370ogu9nt.apps.googleusercontent.com&redirect_uri=http%3A%2F%2Flocalhost%3A8080%2F&scope=https%3A%2F%2Fwww.googleapis.com%2Fauth%2Fdrive&access_type=online&response_type=code\n",
      "\n"
     ]
    },
    {
     "name": "stderr",
     "output_type": "stream",
     "text": [
      "/usr/bin/xdg-open: 882: x-www-browser: not found\n",
      "/usr/bin/xdg-open: 882: firefox: not found\n",
      "/usr/bin/xdg-open: 882: iceweasel: not found\n",
      "/usr/bin/xdg-open: 882: seamonkey: not found\n",
      "/usr/bin/xdg-open: 882: mozilla: not found\n",
      "/usr/bin/xdg-open: 882: epiphany: not found\n",
      "/usr/bin/xdg-open: 882: konqueror: not found\n",
      "/usr/bin/xdg-open: 882: chromium: not found\n",
      "/usr/bin/xdg-open: 882: chromium-browser: not found\n",
      "/usr/bin/xdg-open: 882: google-chrome: not found\n",
      "/usr/bin/xdg-open: 882: www-browser: not found\n",
      "/usr/bin/xdg-open: 882: links2: not found\n",
      "/usr/bin/xdg-open: 882: elinks: not found\n",
      "/usr/bin/xdg-open: 882: links: not found\n",
      "/usr/bin/xdg-open: 882: lynx: not found\n",
      "/usr/bin/xdg-open: 882: w3m: not found\n",
      "xdg-open: no method available for opening 'https://accounts.google.com/o/oauth2/auth?client_id=866222568272-sskl2pdnfp0aj694b1f3v9o370ogu9nt.apps.googleusercontent.com&redirect_uri=http%3A%2F%2Flocalhost%3A8080%2F&scope=https%3A%2F%2Fwww.googleapis.com%2Fauth%2Fdrive&access_type=online&response_type=code'\n"
     ]
    },
    {
     "name": "stdout",
     "output_type": "stream",
     "text": [
      "Authentication successful.\n"
     ]
    }
   ],
   "source": [
    "from pydrive2.auth import GoogleAuth\n",
    "from pydrive2.drive import GoogleDrive\n",
    "\n",
    "def gdrive_authenticate():\n",
    "    gauth = GoogleAuth()\n",
    "    gauth.LocalWebserverAuth()\n",
    "    drive = GoogleDrive(gauth)\n",
    "    return drive"
   ]
  },
  {
   "cell_type": "code",
   "execution_count": 14,
   "metadata": {},
   "outputs": [
    {
     "name": "stdout",
     "output_type": "stream",
     "text": [
      "title: Manual evaluation - arXiv (cs.lg & stat.ml), id: 12FpKYUWtM8zLREZkdZGYR0eRWxcsbJhHwMbS_yuE46s\n",
      "Downloaded file: Manual evaluation - arXiv (cs.lg & stat.ml)\n",
      "title: Guidance codebook, id: 1TCg_ovFygAo0Ngv-KybtQylIyusm5kP9uBaD6QEbrdU\n"
     ]
    }
   ],
   "source": [
    "def download_manual_eval(auth):\n",
    "  file_list = drive.ListFile({'q': \"'root' in parents and trashed=false\"}).GetList()\n",
    "  for file1 in file_list:\n",
    "  #   print('title: %s, id: %s' % (file1['title'], file1['id']))\n",
    "    if file1['title'] == 'repro-screener':\n",
    "      file_list2 = drive.ListFile({'q': \"'%s' in parents and trashed=false\" % file1['id']}).GetList()\n",
    "      for file2 in file_list2:\n",
    "        print('title: %s, id: %s' % (file2['title'], file2['id']))\n",
    "        if file2['id'] == '12FpKYUWtM8zLREZkdZGYR0eRWxcsbJhHwMbS_yuE46s':\n",
    "          file3 = drive.CreateFile({'id': file2['id']})\n",
    "          file3.GetContentFile(filename='manual_eval.csv', mimetype='text/csv')\n",
    "          print('Downloaded file: %s' % file2['title'])"
   ]
  }
 ],
 "metadata": {
  "kernelspec": {
   "display_name": "repro-screener",
   "language": "python",
   "name": "python3"
  },
  "language_info": {
   "codemirror_mode": {
    "name": "ipython",
    "version": 3
   },
   "file_extension": ".py",
   "mimetype": "text/x-python",
   "name": "python",
   "nbconvert_exporter": "python",
   "pygments_lexer": "ipython3",
   "version": "3.9.13"
  },
  "orig_nbformat": 4,
  "vscode": {
   "interpreter": {
    "hash": "20a99d91287664821558953b6dd64860c99c1cbc0b07e06fad4c963774f71786"
   }
  }
 },
 "nbformat": 4,
 "nbformat_minor": 2
}
