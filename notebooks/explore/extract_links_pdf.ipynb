{
 "cells": [
  {
   "cell_type": "code",
   "execution_count": 4,
   "metadata": {},
   "outputs": [],
   "source": [
    "import pdfx\n",
    "pdf = pdfx.PDFx(\"Inventory of Agency Public Access APIs.pdf\")"
   ]
  },
  {
   "cell_type": "code",
   "execution_count": 14,
   "metadata": {},
   "outputs": [
    {
     "data": {
      "text/plain": [
       "{'url': ['ncbi.nlm.nih.gov/books/NBK25499/#chapter4.ESummary',\n",
       "  'ncbi.nlm.nih.gov/pmc/oai/oai.cgi',\n",
       "  'osti.gov/pages/api/v1/records/',\n",
       "  'osti.gov/disclaimer',\n",
       "  'https://dec.usaid.gov/api/',\n",
       "  'https://repository.si.edu/oai/request?verb=ListRecords&metadataPref',\n",
       "  'research.gov/common/w',\n",
       "  'https://api.data.gov',\n",
       "  'ncbi.nlm.nih.gov/books/NBK25497/#chapter2.Usage_Guidelines_and_Requiremen',\n",
       "  'http://pubs.er.usgs.gov/pubs-services/publication',\n",
       "  'https://eric.ed.gov/?copyright',\n",
       "  'https://w',\n",
       "  'https://api.nal.usda.gov/pubag/rest/',\n",
       "  'https://eutils.ncbi.nlm.nih.gov/entrez/eutils/esearch.f',\n",
       "  'https://dec.usaid.gov',\n",
       "  'https://eutils.ncbi.nlm.nih.gov/entrez/eutils/esummary.f',\n",
       "  'ncbi.nlm.nih.gov/pmc/tools/f',\n",
       "  'https://rosap.ntl.bts.gov/help#quick-link-oaipmh-listrecords',\n",
       "  'https://repository.library.noaa.gov/help#quick-link-oaipmh-ext',\n",
       "  'ncbi.nlm.nih.gov',\n",
       "  'https://dec.usaid.gov/dec/content/f',\n",
       "  'ncbi.nlm.nih.gov/pmc/tools/oai/',\n",
       "  'iki.duraspace.org/display/DSDOC5x/OAI',\n",
       "  'ncbi.nlm.nih.gov/pubmed/',\n",
       "  'tp.ncbi.nlm.nih.gov/pub/pmc',\n",
       "  'https://pubs.er.usgs.gov/documentation/w',\n",
       "  'https://pubs.er.usgs.gov/pubs-services/sw',\n",
       "  'https://eutils.ncbi.nlm.nih.gov/entrez/eutils/ef',\n",
       "  'https://rosap.ntl.bts.gov/f',\n",
       "  'https://rosap.ntl.bts.gov/help#quick-link-oaipmh-ext',\n",
       "  'ncbi.nlm.nih.gov/pmc/about/copyright/',\n",
       "  'https://repository.si.edu/oai/request?verb=Identif',\n",
       "  'si.edu/Termsof',\n",
       "  'https://repository.library.noaa.gov/f',\n",
       "  'https://pubag.nal.usda.gov/f',\n",
       "  'usaid.gov/developer/development-experience-clearinghouse-dec-api',\n",
       "  'ncbi.nlm.nih.gov/pmc/tools/textmining/',\n",
       "  'osti.gov/pages/api/v1/docs',\n",
       "  'https://pubag.nal.usda.gov/apidocs',\n",
       "  'https://f',\n",
       "  'https://repository.library.noaa.gov/help#quick-link-oaipmh-summary',\n",
       "  'ncbi.nlm.nih.gov/pmc/',\n",
       "  'https://repository.si.edu',\n",
       "  'ncbi.nlm.nih.gov/books/NBK25497/',\n",
       "  'ncbi.nlm.nih.gov/books/NBK25499/#chapter4.EFetch',\n",
       "  'ncbi.nlm.nih.gov/pmc/about/mscollection/',\n",
       "  'https://api.nsf',\n",
       "  'Data.gov']}"
      ]
     },
     "execution_count": 14,
     "metadata": {},
     "output_type": "execute_result"
    }
   ],
   "source": [
    "pdf.get_references_as_dict()"
   ]
  }
 ],
 "metadata": {
  "kernelspec": {
   "display_name": "repro-screener",
   "language": "python",
   "name": "python3"
  },
  "language_info": {
   "codemirror_mode": {
    "name": "ipython",
    "version": 3
   },
   "file_extension": ".py",
   "mimetype": "text/x-python",
   "name": "python",
   "nbconvert_exporter": "python",
   "pygments_lexer": "ipython3",
   "version": "3.9.13"
  },
  "orig_nbformat": 4,
  "vscode": {
   "interpreter": {
    "hash": "20a99d91287664821558953b6dd64860c99c1cbc0b07e06fad4c963774f71786"
   }
  }
 },
 "nbformat": 4,
 "nbformat_minor": 2
}
