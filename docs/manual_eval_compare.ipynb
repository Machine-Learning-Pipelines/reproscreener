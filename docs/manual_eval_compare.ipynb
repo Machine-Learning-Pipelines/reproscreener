{
 "cells": [
  {
   "attachments": {},
   "cell_type": "markdown",
   "metadata": {},
   "source": [
    "# Case studies\n",
    "\n",
    "1. **Gold standard**: `mine-50-andor` contains the 50 most recent articles from [arxiv.org in both the cs.LG and stat.ML categories](https://arxiv.org/list/cs.LG/recent), between the dates 2022-10-24 and 2022-10-25 and contained 570 search results at the time of the dataset creation. We select articles that belong to cs.LG `or` (cs.LG `and` stat.ML) category.\n",
    "\n",
    "2. `mine50` contains the 50 most recent articles from [arxiv.org in both the cs.LG and stat.ML categories](https://arxiv.org/list/cs.LG/recent), between the dates 2022-10-24 and 2022-10-25 and contained 570 search results at the time of the dataset creation. The search result is sorted by date in descending order\n",
    "\n",
    "    !!! note\n",
    "        The date being queried for is the last updated date and not the date of paper submission\n",
    "\n",
    "3. `mine50-csLG` contains the results using the same method as `mine50` but without looking for articles in both cs.LG and stat.ML."
   ]
  },
  {
   "attachments": {},
   "cell_type": "markdown",
   "metadata": {},
   "source": [
    "## Evaluating ReproScreener on the manually labeled (gold standard) dataset"
   ]
  },
  {
   "cell_type": "code",
   "execution_count": 1,
   "metadata": {},
   "outputs": [],
   "source": [
    "import pandas as pd\n",
    "from IPython.display import display\n",
    "from pathlib import Path\n",
    "\n",
    "path_corpus_andor = Path(\"../case-studies/arxiv-corpus/mine50-andor/\")\n",
    "\n",
    "dtypes_repro = {'id': str, 'link_count': float, 'found_links': str}\n",
    "eval_andor = pd.read_csv(path_corpus_andor / 'output/repro_eval_tex.csv', dtype=dtypes_repro)[['id', 'link_count', 'found_links']]"
   ]
  },
  {
   "cell_type": "code",
   "execution_count": 17,
   "metadata": {},
   "outputs": [
    {
     "name": "stdout",
     "output_type": "stream",
     "text": [
      "<class 'pandas.core.frame.DataFrame'>\n",
      "Int64Index: 21 entries, 4 to 49\n",
      "Data columns (total 3 columns):\n",
      " #   Column       Non-Null Count  Dtype  \n",
      "---  ------       --------------  -----  \n",
      " 0   id           21 non-null     object \n",
      " 1   link_count   21 non-null     float64\n",
      " 2   found_links  21 non-null     object \n",
      "dtypes: float64(1), object(2)\n",
      "memory usage: 672.0+ bytes\n"
     ]
    },
    {
     "data": {
      "text/plain": [
       "None"
      ]
     },
     "metadata": {},
     "output_type": "display_data"
    }
   ],
   "source": [
    "eval_andor_links = eval_andor[eval_andor['link_count'] > 0]\n",
    "display(eval_andor_links.info())"
   ]
  },
  {
   "cell_type": "code",
   "execution_count": 3,
   "metadata": {},
   "outputs": [
    {
     "name": "stdout",
     "output_type": "stream",
     "text": [
      "<class 'pandas.core.frame.DataFrame'>\n",
      "RangeIndex: 52 entries, 0 to 51\n",
      "Data columns (total 15 columns):\n",
      " #   Column                         Non-Null Count  Dtype \n",
      "---  ------                         --------------  ----- \n",
      " 0   paper                          52 non-null     object\n",
      " 1   notes                          44 non-null     object\n",
      " 2   empirical_dataset              30 non-null     object\n",
      " 3   article_link_avail             25 non-null     object\n",
      " 4   code_available_article_desc    26 non-null     object\n",
      " 5   pwc_link_avail                 25 non-null     object\n",
      " 6   pwc_link_match                 25 non-null     object\n",
      " 7   pwc_link_desc                  24 non-null     object\n",
      " 8   result_replication_code_avail  23 non-null     object\n",
      " 9   code_language                  23 non-null     object\n",
      " 10  package                        7 non-null      object\n",
      " 11  wrapper_script                 16 non-null     object\n",
      " 12  hardware_specifications        8 non-null      object\n",
      " 13  software_dependencies          20 non-null     object\n",
      " 14  will_it_reproduce              23 non-null     object\n",
      "dtypes: object(15)\n",
      "memory usage: 6.2+ KB\n"
     ]
    }
   ],
   "source": [
    "manual = pd.read_csv(\"./manual_eval.csv\")\n",
    "manual.info()"
   ]
  },
  {
   "cell_type": "code",
   "execution_count": 4,
   "metadata": {},
   "outputs": [
    {
     "data": {
      "text/plain": [
       "article_link_avail               23.0\n",
       "pwc_link_avail                   22.0\n",
       "pwc_link_match                   19.0\n",
       "result_replication_code_avail    20.0\n",
       "dtype: float64"
      ]
     },
     "execution_count": 4,
     "metadata": {},
     "output_type": "execute_result"
    }
   ],
   "source": [
    "manual_df_numerical = manual[['paper', 'article_link_avail', 'pwc_link_avail', 'pwc_link_match', 'result_replication_code_avail']]\n",
    "manual_df_numerical = manual_df_numerical.drop(index=[0,51]) # drop first row (summary) and last row (totals)\n",
    "manual_df_numerical = manual_df_numerical.fillna(0) # fill NaN with 0\n",
    "dtypes_manual = {'paper': str, 'article_link_avail': float, 'pwc_link_avail': float, 'pwc_link_match': float, 'result_replication_code_avail': float}\n",
    "manual_df_numerical = manual_df_numerical.astype(dtypes_manual) # convert to int\n",
    "manual_df_numerical.sum(axis=0, numeric_only=True)"
   ]
  },
  {
   "cell_type": "code",
   "execution_count": 16,
   "metadata": {},
   "outputs": [
    {
     "name": "stdout",
     "output_type": "stream",
     "text": [
      "Manual evaluation found links in 23.0 papers, ReproScreener found links in 21 papers\n"
     ]
    }
   ],
   "source": [
    "manual_vs_repro = manual_df_numerical.merge(eval_andor_links, left_on='paper', right_on='id', how='left')\n",
    "# manual_df_numerical.article_link_avail.sum(), manual_df_numerical.result_replication_code_avail.sum()\n",
    "print(f\"Manual evaluation found links in {manual_vs_repro.article_link_avail.sum()} papers, ReproScreener found links in {(manual_vs_repro.link_count>0).sum()} papers\")"
   ]
  }
 ],
 "metadata": {
  "kernelspec": {
   "display_name": "repro-screener",
   "language": "python",
   "name": "python3"
  },
  "language_info": {
   "codemirror_mode": {
    "name": "ipython",
    "version": 3
   },
   "file_extension": ".py",
   "mimetype": "text/x-python",
   "name": "python",
   "nbconvert_exporter": "python",
   "pygments_lexer": "ipython3",
   "version": "3.9.13"
  },
  "orig_nbformat": 4,
  "vscode": {
   "interpreter": {
    "hash": "20a99d91287664821558953b6dd64860c99c1cbc0b07e06fad4c963774f71786"
   }
  }
 },
 "nbformat": 4,
 "nbformat_minor": 2
}
