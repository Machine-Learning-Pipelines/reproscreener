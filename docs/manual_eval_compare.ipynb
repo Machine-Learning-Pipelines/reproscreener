{
 "cells": [
  {
   "attachments": {},
   "cell_type": "markdown",
   "metadata": {},
   "source": [
    "# Case studies\n",
    "\n",
    "1. **Gold standard**: `mine-50-andor` contains the 50 most recent articles from [arxiv.org in both the cs.LG and stat.ML categories](https://arxiv.org/list/cs.LG/recent), between the dates 2022-10-24 and 2022-10-25 and contained 570 search results at the time of the dataset creation. We select articles that belong to cs.LG `or` (cs.LG `and` stat.ML) category.\n",
    "\n",
    "2. `mine50` contains the 50 most recent articles from [arxiv.org in both the cs.LG and stat.ML categories](https://arxiv.org/list/cs.LG/recent), between the dates 2022-10-24 and 2022-10-25 and contained 570 search results at the time of the dataset creation. The search result is sorted by date in descending order\n",
    "\n",
    "    !!! note\n",
    "        The date being queried for is the last updated date and not the date of paper submission\n",
    "\n",
    "3. `mine50-csLG` contains the results using the same method as `mine50` but without looking for articles in both cs.LG and stat.ML."
   ]
  },
  {
   "attachments": {},
   "cell_type": "markdown",
   "metadata": {},
   "source": [
    "## Evaluating ReproScreener on the manually labeled (gold standard) dataset"
   ]
  },
  {
   "cell_type": "code",
   "execution_count": 1,
   "metadata": {},
   "outputs": [],
   "source": [
    "import pandas as pd\n",
    "from IPython.display import display\n",
    "from pathlib import Path\n",
    "import sys\n",
    "sys.path.append(str(Path.cwd().parent / \"src\"))\n",
    "\n",
    "path_corpus = Path(\"../case-studies/arxiv-corpus/mine50-andor/\")\n",
    "manual_path = path_corpus / \"manual_eval.csv\"\n",
    "\n",
    "dtypes_repro = {'id': str, 'link_count': float, 'found_links': str}\n",
    "repro_eval = pd.read_csv(path_corpus / 'output/repro_eval_tex.csv', dtype=dtypes_repro)[['id', 'link_count', 'found_links']]"
   ]
  },
  {
   "attachments": {},
   "cell_type": "markdown",
   "metadata": {},
   "source": [
    "The first 5 articles where ReproScreener found potential code/repository links:"
   ]
  },
  {
   "cell_type": "code",
   "execution_count": 2,
   "metadata": {},
   "outputs": [
    {
     "data": {
      "text/html": [
       "<div>\n",
       "<style scoped>\n",
       "    .dataframe tbody tr th:only-of-type {\n",
       "        vertical-align: middle;\n",
       "    }\n",
       "\n",
       "    .dataframe tbody tr th {\n",
       "        vertical-align: top;\n",
       "    }\n",
       "\n",
       "    .dataframe thead th {\n",
       "        text-align: right;\n",
       "    }\n",
       "</style>\n",
       "<table border=\"1\" class=\"dataframe\">\n",
       "  <thead>\n",
       "    <tr style=\"text-align: right;\">\n",
       "      <th></th>\n",
       "      <th>id</th>\n",
       "      <th>link_count</th>\n",
       "      <th>found_links</th>\n",
       "    </tr>\n",
       "  </thead>\n",
       "  <tbody>\n",
       "    <tr>\n",
       "      <th>4</th>\n",
       "      <td>1909.00931</td>\n",
       "      <td>3.0</td>\n",
       "      <td>['https://github.com/lanwuwei/Twitter-URL-Corp...</td>\n",
       "    </tr>\n",
       "    <tr>\n",
       "      <th>8</th>\n",
       "      <td>2009.01947</td>\n",
       "      <td>1.0</td>\n",
       "      <td>['https://gitlab.com/luciacyx/nm-adaptive-code...</td>\n",
       "    </tr>\n",
       "    <tr>\n",
       "      <th>9</th>\n",
       "      <td>2010.04261</td>\n",
       "      <td>1.0</td>\n",
       "      <td>['https://github.com/goodfeli/dlbook_notation/']</td>\n",
       "    </tr>\n",
       "    <tr>\n",
       "      <th>11</th>\n",
       "      <td>2011.11576</td>\n",
       "      <td>5.0</td>\n",
       "      <td>['https://github.com/jpbrooks/conjecturing.', ...</td>\n",
       "    </tr>\n",
       "    <tr>\n",
       "      <th>12</th>\n",
       "      <td>2012.09302</td>\n",
       "      <td>1.0</td>\n",
       "      <td>['https://github.com/ain-soph/trojanzoo}.']</td>\n",
       "    </tr>\n",
       "  </tbody>\n",
       "</table>\n",
       "</div>"
      ],
      "text/plain": [
       "            id  link_count                                        found_links\n",
       "4   1909.00931         3.0  ['https://github.com/lanwuwei/Twitter-URL-Corp...\n",
       "8   2009.01947         1.0  ['https://gitlab.com/luciacyx/nm-adaptive-code...\n",
       "9   2010.04261         1.0   ['https://github.com/goodfeli/dlbook_notation/']\n",
       "11  2011.11576         5.0  ['https://github.com/jpbrooks/conjecturing.', ...\n",
       "12  2012.09302         1.0        ['https://github.com/ain-soph/trojanzoo}.']"
      ]
     },
     "execution_count": 2,
     "metadata": {},
     "output_type": "execute_result"
    }
   ],
   "source": [
    "repro_eval_links = repro_eval[repro_eval['link_count'] > 0]\n",
    "repro_eval_links.head()"
   ]
  },
  {
   "attachments": {},
   "cell_type": "markdown",
   "metadata": {},
   "source": [
    "Below are the scores from the manually labeled dataset of 50 articles.\n",
    "- `article_link_avail`: Whether ink to the code/repository was able to be found in the article.\n",
    "- `pwc_link_avail`: Whether ink to the code/repository was able to be found in the Papers With Code (`pwc`) website.\n",
    "- `pwc_link_match`: Whether ink to the code/repository found in the Papers With Code (`pwc`) website matches the link found in the article (whether the previous 2 columns match or not).\n",
    "- `result_replication_code_avail`: Whether code to replicate the specific experiments presented in the article was available. This to measure that the code is not just a generic implementation of the model (part of the tool/package) but is specific to the experiments in the article. If code is not available, this defaults to false."
   ]
  },
  {
   "cell_type": "code",
   "execution_count": 5,
   "metadata": {},
   "outputs": [
    {
     "data": {
      "text/html": [
       "<pre style=\"white-space:pre;overflow-x:auto;line-height:normal;font-family:Menlo,'DejaVu Sans Mono',consolas,'Courier New',monospace\">Manual eval file exists\n",
       "</pre>\n"
      ],
      "text/plain": [
       "Manual eval file exists\n"
      ]
     },
     "metadata": {},
     "output_type": "display_data"
    }
   ],
   "source": [
    "from repo_downloader import gdrive_get_manual_eval\n",
    "manual = gdrive_get_manual_eval(overwrite=False, manual_path=manual_path)"
   ]
  },
  {
   "cell_type": "code",
   "execution_count": 10,
   "metadata": {},
   "outputs": [
    {
     "data": {
      "text/html": [
       "<div>\n",
       "<style scoped>\n",
       "    .dataframe tbody tr th:only-of-type {\n",
       "        vertical-align: middle;\n",
       "    }\n",
       "\n",
       "    .dataframe tbody tr th {\n",
       "        vertical-align: top;\n",
       "    }\n",
       "\n",
       "    .dataframe thead th {\n",
       "        text-align: right;\n",
       "    }\n",
       "</style>\n",
       "<table border=\"1\" class=\"dataframe\">\n",
       "  <thead>\n",
       "    <tr style=\"text-align: right;\">\n",
       "      <th></th>\n",
       "      <th>paper</th>\n",
       "      <th>article_link_avail</th>\n",
       "      <th>pwc_link_avail</th>\n",
       "      <th>pwc_link_match</th>\n",
       "      <th>result_replication_code_avail</th>\n",
       "    </tr>\n",
       "  </thead>\n",
       "  <tbody>\n",
       "    <tr>\n",
       "      <th>10</th>\n",
       "      <td>2010.04261</td>\n",
       "      <td>0.0</td>\n",
       "      <td>0.0</td>\n",
       "      <td>0.0</td>\n",
       "      <td>0.0</td>\n",
       "    </tr>\n",
       "    <tr>\n",
       "      <th>11</th>\n",
       "      <td>2010.04855</td>\n",
       "      <td>0.0</td>\n",
       "      <td>0.0</td>\n",
       "      <td>0.0</td>\n",
       "      <td>0.0</td>\n",
       "    </tr>\n",
       "    <tr>\n",
       "      <th>12</th>\n",
       "      <td>2011.11576</td>\n",
       "      <td>1.0</td>\n",
       "      <td>1.0</td>\n",
       "      <td>0.0</td>\n",
       "      <td>0.0</td>\n",
       "    </tr>\n",
       "    <tr>\n",
       "      <th>13</th>\n",
       "      <td>2012.09302</td>\n",
       "      <td>1.0</td>\n",
       "      <td>1.0</td>\n",
       "      <td>1.0</td>\n",
       "      <td>1.0</td>\n",
       "    </tr>\n",
       "    <tr>\n",
       "      <th>14</th>\n",
       "      <td>2101.07354</td>\n",
       "      <td>0.0</td>\n",
       "      <td>0.0</td>\n",
       "      <td>0.0</td>\n",
       "      <td>0.0</td>\n",
       "    </tr>\n",
       "    <tr>\n",
       "      <th>15</th>\n",
       "      <td>2102.11887</td>\n",
       "      <td>0.0</td>\n",
       "      <td>0.0</td>\n",
       "      <td>0.0</td>\n",
       "      <td>0.0</td>\n",
       "    </tr>\n",
       "  </tbody>\n",
       "</table>\n",
       "</div>"
      ],
      "text/plain": [
       "         paper  article_link_avail  pwc_link_avail  pwc_link_match  \\\n",
       "10  2010.04261                 0.0             0.0             0.0   \n",
       "11  2010.04855                 0.0             0.0             0.0   \n",
       "12  2011.11576                 1.0             1.0             0.0   \n",
       "13  2012.09302                 1.0             1.0             1.0   \n",
       "14  2101.07354                 0.0             0.0             0.0   \n",
       "15  2102.11887                 0.0             0.0             0.0   \n",
       "\n",
       "    result_replication_code_avail  \n",
       "10                            0.0  \n",
       "11                            0.0  \n",
       "12                            0.0  \n",
       "13                            1.0  \n",
       "14                            0.0  \n",
       "15                            0.0  "
      ]
     },
     "execution_count": 10,
     "metadata": {},
     "output_type": "execute_result"
    }
   ],
   "source": [
    "manual_df_numerical = manual[['paper', 'article_link_avail', 'pwc_link_avail', 'pwc_link_match', 'result_replication_code_avail']]\n",
    "manual_df_numerical = manual_df_numerical.fillna(0) # fill NaN with 0\n",
    "dtypes_manual = {'paper': str, 'article_link_avail': float, 'pwc_link_avail': float, 'pwc_link_match': float, 'result_replication_code_avail': float}\n",
    "manual_df_numerical = manual_df_numerical.astype(dtypes_manual) # convert to int\n",
    "manual_df_numerical[9:15]"
   ]
  },
  {
   "attachments": {},
   "cell_type": "markdown",
   "metadata": {},
   "source": [
    "Tally of manual evaluation of the 50 articles:"
   ]
  },
  {
   "cell_type": "code",
   "execution_count": 11,
   "metadata": {},
   "outputs": [
    {
     "data": {
      "text/plain": [
       "article_link_avail               23.0\n",
       "pwc_link_avail                   22.0\n",
       "pwc_link_match                   19.0\n",
       "result_replication_code_avail    20.0\n",
       "dtype: float64"
      ]
     },
     "execution_count": 11,
     "metadata": {},
     "output_type": "execute_result"
    }
   ],
   "source": [
    "manual_df_numerical.sum(axis=0, numeric_only=True)"
   ]
  },
  {
   "cell_type": "code",
   "execution_count": 12,
   "metadata": {},
   "outputs": [
    {
     "name": "stdout",
     "output_type": "stream",
     "text": [
      "Manual evaluation found links in 23.0 papers, ReproScreener found links in 21 papers\n"
     ]
    }
   ],
   "source": [
    "manual_vs_repro = manual_df_numerical.merge(repro_eval_links, left_on='paper', right_on='id', how='left')\n",
    "# manual_df_numerical.article_link_avail.sum(), manual_df_numerical.result_replication_code_avail.sum()\n",
    "print(f\"Manual evaluation found links in {manual_vs_repro.article_link_avail.sum()} papers, ReproScreener found links in {(manual_vs_repro.link_count>0).sum()} papers\")"
   ]
  },
  {
   "attachments": {},
   "cell_type": "markdown",
   "metadata": {},
   "source": [
    "## Performing file structure and dependency checks on downloaded repositories of the manually labeled articles"
   ]
  },
  {
   "cell_type": "code",
   "execution_count": 13,
   "metadata": {},
   "outputs": [
    {
     "data": {
      "text/plain": [
       "['2104.11893',\n",
       " '2111.12673',\n",
       " '2105.01937',\n",
       " '2012.09302',\n",
       " '2111.02997',\n",
       " '2110.09902',\n",
       " '2110.11688',\n",
       " '2108.09779',\n",
       " '2011.11576',\n",
       " '2106.07704',\n",
       " '2106.06927',\n",
       " '2112.00016',\n",
       " '1909.00931',\n",
       " '2110.08255',\n",
       " '2110.05169',\n",
       " '2109.12784',\n",
       " '2107.01131',\n",
       " '2112.04871',\n",
       " '2109.01372',\n",
       " '2111.15449',\n",
       " '2009.01947',\n",
       " '2106.01528',\n",
       " '2106.03157']"
      ]
     },
     "execution_count": 13,
     "metadata": {},
     "output_type": "execute_result"
    }
   ],
   "source": [
    "from repo_checker import tally_checks_by_paper, get_downloaded_repos\n",
    "\n",
    "downloaded_repos = get_downloaded_repos(path_corpus)\n",
    "downloaded_repos"
   ]
  },
  {
   "cell_type": "code",
   "execution_count": 14,
   "metadata": {},
   "outputs": [
    {
     "data": {
      "text/html": [
       "<div>\n",
       "<style scoped>\n",
       "    .dataframe tbody tr th:only-of-type {\n",
       "        vertical-align: middle;\n",
       "    }\n",
       "\n",
       "    .dataframe tbody tr th {\n",
       "        vertical-align: top;\n",
       "    }\n",
       "\n",
       "    .dataframe thead th {\n",
       "        text-align: right;\n",
       "    }\n",
       "</style>\n",
       "<table border=\"1\" class=\"dataframe\">\n",
       "  <thead>\n",
       "    <tr style=\"text-align: right;\">\n",
       "      <th></th>\n",
       "      <th>paper</th>\n",
       "      <th>code_avail_url</th>\n",
       "    </tr>\n",
       "  </thead>\n",
       "  <tbody>\n",
       "    <tr>\n",
       "      <th>1</th>\n",
       "      <td>1606.04671</td>\n",
       "      <td>nan</td>\n",
       "    </tr>\n",
       "    <tr>\n",
       "      <th>2</th>\n",
       "      <td>1903.09668</td>\n",
       "      <td>nan</td>\n",
       "    </tr>\n",
       "    <tr>\n",
       "      <th>3</th>\n",
       "      <td>1904.10554</td>\n",
       "      <td>nan</td>\n",
       "    </tr>\n",
       "    <tr>\n",
       "      <th>4</th>\n",
       "      <td>1908.05659</td>\n",
       "      <td>nan</td>\n",
       "    </tr>\n",
       "    <tr>\n",
       "      <th>5</th>\n",
       "      <td>1909.00931</td>\n",
       "      <td>https://github.com/yukiar/TransferFT</td>\n",
       "    </tr>\n",
       "  </tbody>\n",
       "</table>\n",
       "</div>"
      ],
      "text/plain": [
       "        paper                        code_avail_url\n",
       "1  1606.04671                                   nan\n",
       "2  1903.09668                                   nan\n",
       "3  1904.10554                                   nan\n",
       "4  1908.05659                                   nan\n",
       "5  1909.00931  https://github.com/yukiar/TransferFT"
      ]
     },
     "execution_count": 14,
     "metadata": {},
     "output_type": "execute_result"
    }
   ],
   "source": [
    "manual[['paper', 'code_avail_url']].head()"
   ]
  }
 ],
 "metadata": {
  "kernelspec": {
   "display_name": "repro-screener",
   "language": "python",
   "name": "python3"
  },
  "language_info": {
   "codemirror_mode": {
    "name": "ipython",
    "version": 3
   },
   "file_extension": ".py",
   "mimetype": "text/x-python",
   "name": "python",
   "nbconvert_exporter": "python",
   "pygments_lexer": "ipython3",
   "version": "3.9.13"
  },
  "orig_nbformat": 4,
  "vscode": {
   "interpreter": {
    "hash": "20a99d91287664821558953b6dd64860c99c1cbc0b07e06fad4c963774f71786"
   }
  }
 },
 "nbformat": 4,
 "nbformat_minor": 2
}
